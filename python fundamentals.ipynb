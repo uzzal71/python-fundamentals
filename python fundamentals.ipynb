{
 "cells": [
  {
   "cell_type": "markdown",
   "metadata": {},
   "source": [
    "# Section 1: Introduction to the myself and the course"
   ]
  },
  {
   "cell_type": "markdown",
   "metadata": {},
   "source": [
    "### 1. A bit about me"
   ]
  },
  {
   "cell_type": "markdown",
   "metadata": {},
   "source": [
    "Qualifications\n",
    "<ul>\n",
    "    <li>Bsc in Computer Science & Engineering(Northern University Bangladesh)</li>\n",
    "    <li>Diplona in Computer Science & Engineering(Dinajpur Polytechnic Institute)</li>\n",
    "    <li>SSC (Khokshabari M.U High School, Nilphamari)</li>\n",
    "</ul>\n",
    "\n",
    "Experience\n",
    "<ul>\n",
    "    <li>1.5+ years experience in software development</li>\n",
    "    <li>Software Support</li>\n",
    "    <li>Working with team</li>\n",
    "</ul>"
   ]
  },
  {
   "cell_type": "markdown",
   "metadata": {},
   "source": [
    "### 2. Setting up with Python"
   ]
  },
  {
   "cell_type": "markdown",
   "metadata": {},
   "source": [
    "Download Python Files<br>\n",
    "<a hert=\"https://www.python.org/\" target=\"_blank\">Click This Link and download</a><br>\n",
    "<storng>You use Mac OS or Linux OS already have installed Python your machine</storng>"
   ]
  },
  {
   "cell_type": "markdown",
   "metadata": {},
   "source": [
    "# Section 2: Core Concepts"
   ]
  },
  {
   "cell_type": "markdown",
   "metadata": {},
   "source": [
    "### 3.Core Concepts: Key Definions"
   ]
  },
  {
   "cell_type": "markdown",
   "metadata": {},
   "source": [
    "<b>value:</b> One of the basic units of data, like a number or string, \n",
    "      that a program manipulates.\n",
    "        \n",
    "<b>variable:</b> A name that refers to a value\n",
    "\n",
    "<b>expression:</b> A combination of variables, operators, and value \n",
    "           that represents a single result value"
   ]
  },
  {
   "cell_type": "markdown",
   "metadata": {},
   "source": [
    "### 4. Interpreter variables and data types"
   ]
  },
  {
   "cell_type": "code",
   "execution_count": 2,
   "metadata": {},
   "outputs": [
    {
     "data": {
      "text/plain": [
       "2"
      ]
     },
     "execution_count": 2,
     "metadata": {},
     "output_type": "execute_result"
    }
   ],
   "source": [
    "1 + 1"
   ]
  },
  {
   "cell_type": "code",
   "execution_count": 3,
   "metadata": {},
   "outputs": [
    {
     "data": {
      "text/plain": [
       "10"
      ]
     },
     "execution_count": 3,
     "metadata": {},
     "output_type": "execute_result"
    }
   ],
   "source": [
    "2 * 5"
   ]
  },
  {
   "cell_type": "code",
   "execution_count": 4,
   "metadata": {},
   "outputs": [
    {
     "data": {
      "text/plain": [
       "3.0"
      ]
     },
     "execution_count": 4,
     "metadata": {},
     "output_type": "execute_result"
    }
   ],
   "source": [
    "15 / 5"
   ]
  },
  {
   "cell_type": "code",
   "execution_count": 5,
   "metadata": {},
   "outputs": [
    {
     "data": {
      "text/plain": [
       "7"
      ]
     },
     "execution_count": 5,
     "metadata": {},
     "output_type": "execute_result"
    }
   ],
   "source": [
    "x = 5\n",
    "x + 2"
   ]
  },
  {
   "cell_type": "code",
   "execution_count": 6,
   "metadata": {},
   "outputs": [
    {
     "data": {
      "text/plain": [
       "True"
      ]
     },
     "execution_count": 6,
     "metadata": {},
     "output_type": "execute_result"
    }
   ],
   "source": [
    "x == 5"
   ]
  },
  {
   "cell_type": "code",
   "execution_count": 7,
   "metadata": {},
   "outputs": [
    {
     "data": {
      "text/plain": [
       "30"
      ]
     },
     "execution_count": 7,
     "metadata": {},
     "output_type": "execute_result"
    }
   ],
   "source": [
    "x * 6"
   ]
  },
  {
   "cell_type": "code",
   "execution_count": 8,
   "metadata": {},
   "outputs": [
    {
     "data": {
      "text/plain": [
       "13"
      ]
     },
     "execution_count": 8,
     "metadata": {},
     "output_type": "execute_result"
    }
   ],
   "source": [
    "3 * x - 2"
   ]
  },
  {
   "cell_type": "code",
   "execution_count": 9,
   "metadata": {},
   "outputs": [
    {
     "data": {
      "text/plain": [
       "19"
      ]
     },
     "execution_count": 9,
     "metadata": {},
     "output_type": "execute_result"
    }
   ],
   "source": [
    "4 + 5 * 3"
   ]
  },
  {
   "cell_type": "code",
   "execution_count": 10,
   "metadata": {},
   "outputs": [
    {
     "data": {
      "text/plain": [
       "5"
      ]
     },
     "execution_count": 10,
     "metadata": {},
     "output_type": "execute_result"
    }
   ],
   "source": [
    "x"
   ]
  },
  {
   "cell_type": "code",
   "execution_count": 11,
   "metadata": {},
   "outputs": [
    {
     "data": {
      "text/plain": [
       "int"
      ]
     },
     "execution_count": 11,
     "metadata": {},
     "output_type": "execute_result"
    }
   ],
   "source": [
    "type(x)"
   ]
  },
  {
   "cell_type": "code",
   "execution_count": 12,
   "metadata": {},
   "outputs": [],
   "source": [
    "x = x / 3"
   ]
  },
  {
   "cell_type": "code",
   "execution_count": 13,
   "metadata": {},
   "outputs": [
    {
     "data": {
      "text/plain": [
       "1.6666666666666667"
      ]
     },
     "execution_count": 13,
     "metadata": {},
     "output_type": "execute_result"
    }
   ],
   "source": [
    "x"
   ]
  },
  {
   "cell_type": "code",
   "execution_count": 14,
   "metadata": {},
   "outputs": [
    {
     "data": {
      "text/plain": [
       "float"
      ]
     },
     "execution_count": 14,
     "metadata": {},
     "output_type": "execute_result"
    }
   ],
   "source": [
    "type(x)"
   ]
  },
  {
   "cell_type": "code",
   "execution_count": 15,
   "metadata": {},
   "outputs": [
    {
     "data": {
      "text/plain": [
       "str"
      ]
     },
     "execution_count": 15,
     "metadata": {},
     "output_type": "execute_result"
    }
   ],
   "source": [
    "name = 'Tapos Roy'\n",
    "type(name)"
   ]
  },
  {
   "cell_type": "code",
   "execution_count": 16,
   "metadata": {},
   "outputs": [
    {
     "data": {
      "text/plain": [
       "'Tapos RoyTapos Roy'"
      ]
     },
     "execution_count": 16,
     "metadata": {},
     "output_type": "execute_result"
    }
   ],
   "source": [
    "name + name"
   ]
  },
  {
   "cell_type": "code",
   "execution_count": 17,
   "metadata": {},
   "outputs": [
    {
     "data": {
      "text/plain": [
       "'Tapos RoyTapos RoyTapos RoyTapos RoyTapos Roy'"
      ]
     },
     "execution_count": 17,
     "metadata": {},
     "output_type": "execute_result"
    }
   ],
   "source": [
    "name * 5"
   ]
  },
  {
   "cell_type": "markdown",
   "metadata": {},
   "source": [
    "### 5. Print Statements and the Hello World Program"
   ]
  },
  {
   "cell_type": "code",
   "execution_count": 22,
   "metadata": {},
   "outputs": [
    {
     "name": "stdout",
     "output_type": "stream",
     "text": [
      "Hello World!\n"
     ]
    }
   ],
   "source": [
    "# HelloWorld.py\n",
    "import HelloWorld"
   ]
  },
  {
   "cell_type": "code",
   "execution_count": 32,
   "metadata": {},
   "outputs": [
    {
     "name": "stdout",
     "output_type": "stream",
     "text": [
      "Hello World!\n",
      "Hello Human, What is your name?\n"
     ]
    }
   ],
   "source": [
    "import HelloWorld2"
   ]
  },
  {
   "cell_type": "code",
   "execution_count": 33,
   "metadata": {},
   "outputs": [
    {
     "name": "stdout",
     "output_type": "stream",
     "text": [
      "Hello World!\n",
      "Hello Human, What is your name?\n",
      "Uzzal\n"
     ]
    }
   ],
   "source": [
    "import HelloWorld3"
   ]
  },
  {
   "cell_type": "code",
   "execution_count": 34,
   "metadata": {},
   "outputs": [
    {
     "name": "stdout",
     "output_type": "stream",
     "text": [
      "Hello World!\n",
      "Hello Human, What is your name?\n",
      "Uzzal Roy\n",
      "Hello Uzzal Roy\n"
     ]
    }
   ],
   "source": [
    "import HelloWorld4"
   ]
  },
  {
   "cell_type": "code",
   "execution_count": 35,
   "metadata": {},
   "outputs": [
    {
     "name": "stdout",
     "output_type": "stream",
     "text": [
      "Hello World!\n"
     ]
    }
   ],
   "source": [
    "print('Hello World!')"
   ]
  },
  {
   "cell_type": "code",
   "execution_count": 36,
   "metadata": {},
   "outputs": [
    {
     "name": "stdout",
     "output_type": "stream",
     "text": [
      "Hello World!\n",
      "Hello Human what is your name?\n"
     ]
    }
   ],
   "source": [
    "print('Hello World!')\n",
    "print('Hello Human what is your name?')"
   ]
  },
  {
   "cell_type": "code",
   "execution_count": 37,
   "metadata": {},
   "outputs": [
    {
     "name": "stdout",
     "output_type": "stream",
     "text": [
      "Hello World!\n",
      "Hello Human what is your name?\n",
      "Uzzal Roy\n"
     ]
    }
   ],
   "source": [
    "print('Hello World!')\n",
    "print('Hello Human what is your name?')\n",
    "name = input()"
   ]
  },
  {
   "cell_type": "code",
   "execution_count": 38,
   "metadata": {},
   "outputs": [
    {
     "name": "stdout",
     "output_type": "stream",
     "text": [
      "Hello World!\n",
      "Hello Human what is your name?\n",
      "Uzzal Roy\n",
      "Hello Uzzal Roy\n"
     ]
    }
   ],
   "source": [
    "print('Hello World!')\n",
    "print('Hello Human what is your name?')\n",
    "name = input()\n",
    "print('Hello ' + name)"
   ]
  },
  {
   "cell_type": "code",
   "execution_count": 40,
   "metadata": {},
   "outputs": [
    {
     "name": "stdout",
     "output_type": "stream",
     "text": [
      "Hello World!\n",
      "Hello Human what is your name?\n",
      "Uzzal Kumar Roy\n",
      "Hello Uzzal Kumar Roy\n",
      "And Uzzal Kumar Roy How old arer you? 25\n",
      "25 hmm..\n"
     ]
    }
   ],
   "source": [
    "print('Hello World!')\n",
    "print('Hello Human what is your name?')\n",
    "name = input()\n",
    "print('Hello ' + name)\n",
    "age = input('And ' + name + ' How old arer you? ')\n",
    "print(age + ' hmm..')"
   ]
  },
  {
   "cell_type": "markdown",
   "metadata": {},
   "source": [
    "### 6. If Statements and User Inputs"
   ]
  },
  {
   "cell_type": "code",
   "execution_count": 41,
   "metadata": {},
   "outputs": [],
   "source": [
    "x = 5"
   ]
  },
  {
   "cell_type": "code",
   "execution_count": 42,
   "metadata": {},
   "outputs": [
    {
     "data": {
      "text/plain": [
       "False"
      ]
     },
     "execution_count": 42,
     "metadata": {},
     "output_type": "execute_result"
    }
   ],
   "source": [
    "x == 'Sujon'"
   ]
  },
  {
   "cell_type": "code",
   "execution_count": 43,
   "metadata": {},
   "outputs": [
    {
     "data": {
      "text/plain": [
       "False"
      ]
     },
     "execution_count": 43,
     "metadata": {},
     "output_type": "execute_result"
    }
   ],
   "source": [
    "x == 6"
   ]
  },
  {
   "cell_type": "code",
   "execution_count": 44,
   "metadata": {},
   "outputs": [
    {
     "data": {
      "text/plain": [
       "True"
      ]
     },
     "execution_count": 44,
     "metadata": {},
     "output_type": "execute_result"
    }
   ],
   "source": [
    "x > 2"
   ]
  },
  {
   "cell_type": "code",
   "execution_count": 46,
   "metadata": {},
   "outputs": [
    {
     "name": "stdout",
     "output_type": "stream",
     "text": [
      "Hello Human, what is your name?\n",
      "Sujon\n",
      "aaah, its you again Sujon\n",
      "The end\n"
     ]
    }
   ],
   "source": [
    "print('Hello Human, what is your name?')\n",
    "name = input()\n",
    "if(name == 'Sujon'):\n",
    "    print('aaah, its you again Sujon')\n",
    "print('The end')"
   ]
  },
  {
   "cell_type": "code",
   "execution_count": 47,
   "metadata": {},
   "outputs": [
    {
     "name": "stdout",
     "output_type": "stream",
     "text": [
      "Hello Human, what is your name?\n",
      "Tapos\n",
      "The end\n"
     ]
    }
   ],
   "source": [
    "print('Hello Human, what is your name?')\n",
    "name = input()\n",
    "if(name == 'Sujon'):\n",
    "    print('aaah, its you again Sujon') # ignore this line 'The end'\n",
    "print('The end')"
   ]
  },
  {
   "cell_type": "code",
   "execution_count": 48,
   "metadata": {},
   "outputs": [
    {
     "name": "stdout",
     "output_type": "stream",
     "text": [
      "Hello Human, what is your name?\n",
      "Tapos Roy\n",
      "Good to meet you Tapos Roy\n",
      "The end\n"
     ]
    }
   ],
   "source": [
    "print('Hello Human, what is your name?')\n",
    "name = input()\n",
    "if(name == 'Sujon'):\n",
    "    print('aaah, its you again Sujon') # ignore this line\n",
    "else:\n",
    "    print('Good to meet you ' + name) # Run Else\n",
    "print('The end')"
   ]
  },
  {
   "cell_type": "code",
   "execution_count": 49,
   "metadata": {},
   "outputs": [
    {
     "name": "stdout",
     "output_type": "stream",
     "text": [
      "Hello Human, what is your name?\n",
      "Sujon\n",
      "aaah, its you again Sujon\n",
      "The end\n"
     ]
    }
   ],
   "source": [
    "print('Hello Human, what is your name?')\n",
    "name = input()\n",
    "if(name == 'Sujon'):\n",
    "    print('aaah, its you again Sujon')\n",
    "elif(name == 'Tapos'):\n",
    "    print('Heey tapos, hows it been')\n",
    "elif(name == 'Mahamud'):\n",
    "    print('Uzzal you are the best ever of all time')\n",
    "else:\n",
    "    print('I dont know you ' + name + ' go away')\n",
    "print('The end')"
   ]
  },
  {
   "cell_type": "code",
   "execution_count": 50,
   "metadata": {},
   "outputs": [
    {
     "name": "stdout",
     "output_type": "stream",
     "text": [
      "Hello Human, what is your name?\n",
      "Tapos\n",
      "Heey tapos, hows it been\n",
      "The end\n"
     ]
    }
   ],
   "source": [
    "print('Hello Human, what is your name?')\n",
    "name = input()\n",
    "if(name == 'Sujon'):\n",
    "    print('aaah, its you again Sujon')\n",
    "elif(name == 'Tapos'):\n",
    "    print('Heey tapos, hows it been')\n",
    "elif(name == 'Mahamud'):\n",
    "    print('Uzzal you are the best ever of all time')\n",
    "else:\n",
    "    print('I dont know you ' + name + ' go away')\n",
    "print('The end')"
   ]
  },
  {
   "cell_type": "code",
   "execution_count": 52,
   "metadata": {},
   "outputs": [
    {
     "name": "stdout",
     "output_type": "stream",
     "text": [
      "Hello Human, what is your name?\n",
      "Uzzal\n",
      "Uzzal you are the best ever of all time\n",
      "The end\n"
     ]
    }
   ],
   "source": [
    "print('Hello Human, what is your name?')\n",
    "name = input()\n",
    "if(name == 'Sujon'):\n",
    "    print('aaah, its you again Sujon')\n",
    "elif(name == 'Tapos'):\n",
    "    print('Heey tapos, hows it been')\n",
    "elif(name == 'Uzzal'):\n",
    "    print('Uzzal you are the best ever of all time')\n",
    "else:\n",
    "    print('I dont know you ' + name + ' go away')\n",
    "print('The end')"
   ]
  },
  {
   "cell_type": "code",
   "execution_count": 53,
   "metadata": {},
   "outputs": [
    {
     "name": "stdout",
     "output_type": "stream",
     "text": [
      "Hello Human, what is your name?\n",
      "Nasir\n",
      "I dont know you Nasir go away\n",
      "The end\n"
     ]
    }
   ],
   "source": [
    "print('Hello Human, what is your name?')\n",
    "name = input()\n",
    "if(name == 'Sujon'):\n",
    "    print('aaah, its you again Sujon')\n",
    "elif(name == 'Tapos'):\n",
    "    print('Heey tapos, hows it been')\n",
    "elif(name == 'Mahamud'):\n",
    "    print('Uzzal you are the best ever of all time')\n",
    "else:\n",
    "    print('I dont know you ' + name + ' go away')\n",
    "print('The end')"
   ]
  },
  {
   "cell_type": "code",
   "execution_count": 54,
   "metadata": {},
   "outputs": [
    {
     "name": "stdout",
     "output_type": "stream",
     "text": [
      "Hello Human, what is your name?\n",
      "Sujon\n",
      "aaah, its you again Sujon\n",
      "I dont know you Sujon go away\n",
      "The end\n"
     ]
    }
   ],
   "source": [
    "print('Hello Human, what is your name?')\n",
    "name = input()\n",
    "if(name == 'Sujon'):\n",
    "    print('aaah, its you again Sujon')\n",
    "if(name == 'Tapos'):\n",
    "    print('Heey tapos, hows it been')\n",
    "if(name == 'Mahamud'):\n",
    "    print('Uzzal you are the best ever of all time')\n",
    "else:\n",
    "    print('I dont know you ' + name + ' go away')\n",
    "print('The end')"
   ]
  },
  {
   "cell_type": "code",
   "execution_count": 55,
   "metadata": {},
   "outputs": [],
   "source": [
    "# if elif else best coding structure"
   ]
  },
  {
   "cell_type": "markdown",
   "metadata": {},
   "source": [
    "### 7. Demonstrating User Inputs with Turtle"
   ]
  },
  {
   "cell_type": "code",
   "execution_count": 34,
   "metadata": {},
   "outputs": [],
   "source": [
    "import turtle\n",
    "\n",
    "turtle.forward(100)\n",
    "\n",
    "# Close\n",
    "turtle.mainloop()"
   ]
  },
  {
   "cell_type": "code",
   "execution_count": 36,
   "metadata": {},
   "outputs": [],
   "source": [
    "import turtle\n",
    "\n",
    "turtle.forward(100)\n",
    "turtle.right(90)\n",
    "turtle.forward(100)\n",
    "turtle.right(90)\n",
    "turtle.forward(100)\n",
    "turtle.right(90)\n",
    "turtle.forward(100)\n",
    "turtle.right(90)\n",
    "\n",
    "# Close\n",
    "turtle.mainloop()"
   ]
  },
  {
   "cell_type": "code",
   "execution_count": 38,
   "metadata": {},
   "outputs": [
    {
     "name": "stdout",
     "output_type": "stream",
     "text": [
      "What side would you like your square to have: 250\n"
     ]
    }
   ],
   "source": [
    "import turtle\n",
    "\n",
    "side = float(input('What side would you like your square to have: '))\n",
    "\n",
    "turtle.forward(side)\n",
    "turtle.right(90)\n",
    "turtle.forward(side)\n",
    "turtle.right(90)\n",
    "turtle.forward(side)\n",
    "turtle.right(90)\n",
    "turtle.forward(side)\n",
    "turtle.right(90)\n",
    "\n",
    "# Close\n",
    "turtle.mainloop()"
   ]
  },
  {
   "cell_type": "markdown",
   "metadata": {},
   "source": [
    "### 8. For loops and Iteration"
   ]
  },
  {
   "cell_type": "code",
   "execution_count": 61,
   "metadata": {},
   "outputs": [
    {
     "name": "stdout",
     "output_type": "stream",
     "text": [
      "hello\n",
      "hello\n",
      "hello\n",
      "hello\n",
      "hello\n",
      "hello\n",
      "hello\n",
      "hello\n",
      "hello\n",
      "hello\n"
     ]
    }
   ],
   "source": [
    "for i in range(0, 10): # repeat 10 times\n",
    "    print('hello')"
   ]
  },
  {
   "cell_type": "code",
   "execution_count": 62,
   "metadata": {},
   "outputs": [
    {
     "name": "stdout",
     "output_type": "stream",
     "text": [
      "hello\n",
      "hello\n",
      "hello\n",
      "hello\n",
      "hello\n",
      "hello\n",
      "hello\n",
      "hello\n",
      "hello\n",
      "hello\n"
     ]
    }
   ],
   "source": [
    "for i in range(10): # repeat 10 times\n",
    "    print('hello')"
   ]
  },
  {
   "cell_type": "code",
   "execution_count": 63,
   "metadata": {},
   "outputs": [
    {
     "name": "stdout",
     "output_type": "stream",
     "text": [
      "enter a number: 5\n",
      "5\n",
      "55\n",
      "555\n",
      "5555\n"
     ]
    }
   ],
   "source": [
    "num = input('enter a number: ')\n",
    "print(num*1)\n",
    "print(num*2)\n",
    "print(num*3)\n",
    "print(num*4)"
   ]
  },
  {
   "cell_type": "code",
   "execution_count": 64,
   "metadata": {},
   "outputs": [
    {
     "name": "stdout",
     "output_type": "stream",
     "text": [
      "enter a number: 5\n",
      "5\n",
      "10\n",
      "15\n",
      "20\n"
     ]
    }
   ],
   "source": [
    "num = input('enter a number: ')\n",
    "num = int(num)\n",
    "print(num*1)\n",
    "print(num*2)\n",
    "print(num*3)\n",
    "print(num*4)"
   ]
  },
  {
   "cell_type": "code",
   "execution_count": 66,
   "metadata": {},
   "outputs": [
    {
     "name": "stdout",
     "output_type": "stream",
     "text": [
      "enter a number: 7\n",
      "here your times labels\n",
      "7\n",
      "14\n",
      "21\n",
      "28\n",
      "35\n",
      "42\n",
      "49\n",
      "56\n",
      "63\n",
      "70\n"
     ]
    }
   ],
   "source": [
    "num = input('enter a number: ')\n",
    "num = int(num)\n",
    "print('here your times table')\n",
    "for i in range(1, 11):\n",
    "    print(num*i)"
   ]
  },
  {
   "cell_type": "markdown",
   "metadata": {},
   "source": [
    "### 9. Demonstrating Loops with Turtle"
   ]
  },
  {
   "cell_type": "code",
   "execution_count": 40,
   "metadata": {},
   "outputs": [
    {
     "name": "stdout",
     "output_type": "stream",
     "text": [
      "What side would you like your square to have: 250\n"
     ]
    }
   ],
   "source": [
    "import turtle\n",
    "\n",
    "side = float(input('What side would you like your square to have: '))\n",
    "\n",
    "for i in range(0, 4):\n",
    "    turtle.forward(side)\n",
    "    turtle.right(90)\n",
    "    \n",
    "# Close\n",
    "turtle.mainloop()    "
   ]
  },
  {
   "cell_type": "code",
   "execution_count": null,
   "metadata": {},
   "outputs": [],
   "source": [
    "import turtle\n",
    "\n",
    "side = float(input('What side would you like your square to have: '))\n",
    "\n",
    "for i in range(0, 100):\n",
    "    turtle.forward(i)\n",
    "    turtle.right(90)\n",
    "    \n",
    "# Close\n",
    "turtle.mainloop()    "
   ]
  },
  {
   "cell_type": "code",
   "execution_count": null,
   "metadata": {},
   "outputs": [],
   "source": [
    "import turtle\n",
    "\n",
    "side = float(input('What number of lines would you like: '))\n",
    "\n",
    "for i in range(0, 100):\n",
    "    turtle.forward(i)\n",
    "    turtle.right(90)\n",
    "    \n",
    "# Close\n",
    "turtle.mainloop()    "
   ]
  },
  {
   "cell_type": "markdown",
   "metadata": {},
   "source": [
    "### 10. Factorisation: Apllying Loops and <br/>If statements"
   ]
  },
  {
   "cell_type": "code",
   "execution_count": 1,
   "metadata": {},
   "outputs": [
    {
     "data": {
      "text/plain": [
       "3.0"
      ]
     },
     "execution_count": 1,
     "metadata": {},
     "output_type": "execute_result"
    }
   ],
   "source": [
    "15 / 5"
   ]
  },
  {
   "cell_type": "code",
   "execution_count": 2,
   "metadata": {},
   "outputs": [
    {
     "data": {
      "text/plain": [
       "0"
      ]
     },
     "execution_count": 2,
     "metadata": {},
     "output_type": "execute_result"
    }
   ],
   "source": [
    "15 % 5"
   ]
  },
  {
   "cell_type": "code",
   "execution_count": 3,
   "metadata": {},
   "outputs": [
    {
     "data": {
      "text/plain": [
       "3"
      ]
     },
     "execution_count": 3,
     "metadata": {},
     "output_type": "execute_result"
    }
   ],
   "source": [
    "15 % 6"
   ]
  },
  {
   "cell_type": "code",
   "execution_count": 4,
   "metadata": {},
   "outputs": [
    {
     "data": {
      "text/plain": [
       "0"
      ]
     },
     "execution_count": 4,
     "metadata": {},
     "output_type": "execute_result"
    }
   ],
   "source": [
    "15 % 3"
   ]
  },
  {
   "cell_type": "code",
   "execution_count": 5,
   "metadata": {},
   "outputs": [
    {
     "name": "stdout",
     "output_type": "stream",
     "text": [
      "Enter a number you wish to factorise: 98\n",
      "1 is factor\n",
      "2 is factor\n",
      "7 is factor\n",
      "14 is factor\n",
      "49 is factor\n",
      "98 is factor\n"
     ]
    }
   ],
   "source": [
    "num = input('Enter a number you wish to factorise: ')\n",
    "number = int(num)\n",
    "\n",
    "for i in range(1, number + 1):\n",
    "    if(number % i == 0):\n",
    "        print(str(i) + ' is factor')"
   ]
  },
  {
   "cell_type": "markdown",
   "metadata": {},
   "source": [
    "### 11. Introducing Prime Number <br/> Recognition to Factorisation"
   ]
  },
  {
   "cell_type": "code",
   "execution_count": 8,
   "metadata": {},
   "outputs": [
    {
     "name": "stdout",
     "output_type": "stream",
     "text": [
      "Enter a number you wish to factorise: 17\n",
      "1 is factor\n",
      "17 is factor\n",
      "17 is a prime number\n"
     ]
    }
   ],
   "source": [
    "num = input('Enter a number you wish to factorise: ')\n",
    "number = int(num)\n",
    "\n",
    "counter = 0\n",
    "\n",
    "for i in range(1, number + 1):\n",
    "    if(number % i == 0):\n",
    "        print(str(i) + ' is factor')\n",
    "        counter = counter + 1\n",
    "\n",
    "if(counter == 2):\n",
    "    print(str(number) + ' is a prime number')"
   ]
  },
  {
   "cell_type": "markdown",
   "metadata": {},
   "source": [
    "### 12. Demonstrating If and Elif<br/>Statements with Turtle"
   ]
  },
  {
   "cell_type": "code",
   "execution_count": null,
   "metadata": {},
   "outputs": [],
   "source": [
    "import turtle\n",
    "\n",
    "print('Would you like to draw a square or triangle?')\n",
    "polygon = input()\n",
    "\n",
    "if polygon == 'triangle':\n",
    "    for i in range(0, 3):\n",
    "        turtle.forward(100)\n",
    "        turtle.left(120)\n",
    "elif polygon == 'square':    \n",
    "    for i in range(0, 4):\n",
    "        turtle.forward(100)\n",
    "        turtle.left(90)\n",
    "else:\n",
    "    print('common a square or triangle')\n",
    "\n",
    "# Close\n",
    "turtle.mainloop()"
   ]
  },
  {
   "cell_type": "markdown",
   "metadata": {},
   "source": [
    "### 13. Advanced Loops and Iteration"
   ]
  },
  {
   "cell_type": "code",
   "execution_count": 20,
   "metadata": {},
   "outputs": [],
   "source": [
    "Stringy = '''\n",
    "Agnes: Why are you wearing your pajamas?\n",
    "Vector: [sputters] These aren't pajamas! It's a warm-up suit.\n",
    "Edith: What are you warming up for?\n",
    "Vector: Stuff.\n",
    "Margo: What sort of stuff?\n",
    "Vector: Super-cool stuff you wouldn't understand.\n",
    "Agnes: Like sleeping?\n",
    "Vector: THEY ARE NOT PAJAMAS!\n",
    "'''\n",
    "\n",
    "myList = ['agnes', 'why', 'are', 'you', 'wearing', 'your', 'pajamas',\n",
    "          'vector', 'sputters', 'these', 'arent', 'pajamas', 'its', 'a',\n",
    "          'warmup', 'suit', 'edith', 'what', 'are', 'you', 'warming', 'up',\n",
    "          'for', 'vector', 'stuff', 'margo', 'what', 'sort', 'of', 'stuff',\n",
    "          'vector', 'supercool', 'stuff', 'you', 'wouldnt', 'understand', 'agnes',\n",
    "          'like', 'sleeping', 'vector', 'they', 'are', 'not', 'pajamas']\n",
    "\n",
    "\n",
    "passwords = {'Sanjin':'Abc123','Meg':'AlphaBeta','Bob':'billybob'}\n",
    "\n",
    "\n",
    "\n"
   ]
  },
  {
   "cell_type": "code",
   "execution_count": 4,
   "metadata": {},
   "outputs": [
    {
     "name": "stdout",
     "output_type": "stream",
     "text": [
      "0 1 2 3 4 5 6 7 8 9 "
     ]
    }
   ],
   "source": [
    "for i in range(0, 10):\n",
    "    print(i, end=' ')"
   ]
  },
  {
   "cell_type": "code",
   "execution_count": 5,
   "metadata": {},
   "outputs": [
    {
     "name": "stdout",
     "output_type": "stream",
     "text": [
      "0 2 4 6 8 "
     ]
    }
   ],
   "source": [
    "for i in range(0, 10, 2): # 2 means how many step repeat\n",
    "    print(i, end=' ')"
   ]
  },
  {
   "cell_type": "code",
   "execution_count": 6,
   "metadata": {},
   "outputs": [
    {
     "name": "stdout",
     "output_type": "stream",
     "text": [
      "0 10 20 30 40 50 60 70 80 90 100 "
     ]
    }
   ],
   "source": [
    "for i in range(0, 101, 10): # 10 means how many step repeat\n",
    "    print(i, end=' ')"
   ]
  },
  {
   "cell_type": "code",
   "execution_count": 7,
   "metadata": {},
   "outputs": [
    {
     "name": "stdout",
     "output_type": "stream",
     "text": [
      "question mark found\n",
      "question mark found\n",
      "question mark found\n",
      "question mark found\n"
     ]
    }
   ],
   "source": [
    "for i in range(0, len(Stringy)):\n",
    "    if(Stringy[i] == '?'):\n",
    "        print('question mark found')"
   ]
  },
  {
   "cell_type": "code",
   "execution_count": 8,
   "metadata": {},
   "outputs": [
    {
     "name": "stdout",
     "output_type": "stream",
     "text": [
      "question mark found\n",
      "40\n",
      "question mark found\n",
      "138\n",
      "question mark found\n",
      "180\n",
      "question mark found\n",
      "252\n"
     ]
    }
   ],
   "source": [
    "for i in range(0, len(Stringy)):\n",
    "    if Stringy[i] == '?':\n",
    "        print('question mark found')\n",
    "        print(i)"
   ]
  },
  {
   "cell_type": "code",
   "execution_count": 10,
   "metadata": {},
   "outputs": [
    {
     "name": "stdout",
     "output_type": "stream",
     "text": [
      "question mark found\n",
      "?\n",
      "question mark found\n",
      "?\n",
      "question mark found\n",
      "?\n",
      "question mark found\n",
      "?\n"
     ]
    }
   ],
   "source": [
    "for i in Stringy:\n",
    "    if i == '?':\n",
    "        print('question mark found')\n",
    "        print(i)"
   ]
  },
  {
   "cell_type": "code",
   "execution_count": 21,
   "metadata": {},
   "outputs": [
    {
     "data": {
      "text/plain": [
       "['Agnes:',\n",
       " 'Why',\n",
       " 'are',\n",
       " 'you',\n",
       " 'wearing',\n",
       " 'your',\n",
       " 'pajamas?',\n",
       " 'Vector:',\n",
       " '[sputters]',\n",
       " 'These',\n",
       " \"aren't\",\n",
       " 'pajamas!',\n",
       " \"It's\",\n",
       " 'a',\n",
       " 'warm-up',\n",
       " 'suit.',\n",
       " 'Edith:',\n",
       " 'What',\n",
       " 'are',\n",
       " 'you',\n",
       " 'warming',\n",
       " 'up',\n",
       " 'for?',\n",
       " 'Vector:',\n",
       " 'Stuff.',\n",
       " 'Margo:',\n",
       " 'What',\n",
       " 'sort',\n",
       " 'of',\n",
       " 'stuff?',\n",
       " 'Vector:',\n",
       " 'Super-cool',\n",
       " 'stuff',\n",
       " 'you',\n",
       " \"wouldn't\",\n",
       " 'understand.',\n",
       " 'Agnes:',\n",
       " 'Like',\n",
       " 'sleeping?',\n",
       " 'Vector:',\n",
       " 'THEY',\n",
       " 'ARE',\n",
       " 'NOT',\n",
       " 'PAJAMAS!']"
      ]
     },
     "execution_count": 21,
     "metadata": {},
     "output_type": "execute_result"
    }
   ],
   "source": [
    "Stringy = Stringy.split()\n",
    "Stringy"
   ]
  },
  {
   "cell_type": "code",
   "execution_count": 23,
   "metadata": {},
   "outputs": [
    {
     "name": "stdout",
     "output_type": "stream",
     "text": [
      "stuff found\n"
     ]
    }
   ],
   "source": [
    "for i in Stringy:\n",
    "    if i == 'stuff':\n",
    "        print('stuff found')"
   ]
  },
  {
   "cell_type": "code",
   "execution_count": 24,
   "metadata": {},
   "outputs": [
    {
     "name": "stdout",
     "output_type": "stream",
     "text": [
      "are found\n",
      "are found\n"
     ]
    }
   ],
   "source": [
    "for i in Stringy:\n",
    "    if i == 'are':\n",
    "        print('are found')"
   ]
  },
  {
   "cell_type": "code",
   "execution_count": 25,
   "metadata": {},
   "outputs": [
    {
     "name": "stdout",
     "output_type": "stream",
     "text": [
      "are found\n",
      "are found\n"
     ]
    }
   ],
   "source": [
    "for word in Stringy: # 'word' It is well understood\n",
    "    if word == 'are':\n",
    "        print('are found')"
   ]
  },
  {
   "cell_type": "code",
   "execution_count": 26,
   "metadata": {},
   "outputs": [
    {
     "data": {
      "text/plain": [
       "{'Sanjin': 'Abc123', 'Meg': 'AlphaBeta', 'Bob': 'billybob'}"
      ]
     },
     "execution_count": 26,
     "metadata": {},
     "output_type": "execute_result"
    }
   ],
   "source": [
    "passwords"
   ]
  },
  {
   "cell_type": "code",
   "execution_count": 27,
   "metadata": {},
   "outputs": [
    {
     "name": "stdout",
     "output_type": "stream",
     "text": [
      "Sanjin\n",
      "Meg\n",
      "Bob\n"
     ]
    }
   ],
   "source": [
    "for i in passwords:\n",
    "    print(i)"
   ]
  },
  {
   "cell_type": "code",
   "execution_count": 28,
   "metadata": {},
   "outputs": [
    {
     "name": "stdout",
     "output_type": "stream",
     "text": [
      "Abc123\n",
      "AlphaBeta\n",
      "billybob\n"
     ]
    }
   ],
   "source": [
    "for user in passwords:\n",
    "    print(passwords[user])"
   ]
  },
  {
   "cell_type": "markdown",
   "metadata": {},
   "source": [
    "### 14. Demonstrating While Loops with<br/>Turtle"
   ]
  },
  {
   "cell_type": "code",
   "execution_count": null,
   "metadata": {},
   "outputs": [],
   "source": [
    "import turtle\n",
    "\n",
    "running = True\n",
    "\n",
    "while running == True: # forever\n",
    "    print('Would you like to draw a square or triangle?')\n",
    "    polygon = input()\n",
    "\n",
    "    if polygon == 'triangle':\n",
    "        for i in range(0, 3):\n",
    "            turtle.forward(100)\n",
    "            turtle.left(120)\n",
    "        running = False\n",
    "    elif polygon == 'square':    \n",
    "        for i in range(0, 4):\n",
    "            turtle.forward(100)\n",
    "            turtle.left(90)\n",
    "        running = False\n",
    "    else:\n",
    "        print('try again, common a square or triangle')\n",
    "\n",
    "# Close\n",
    "turtle.mainloop()        "
   ]
  },
  {
   "cell_type": "markdown",
   "metadata": {},
   "source": [
    "# Section 3: Functions in Python<br/><span style=\"font-size: 15px;color: #333333\">0 / 3 | 23min</span>"
   ]
  },
  {
   "cell_type": "markdown",
   "metadata": {},
   "source": [
    "### 15. Functions"
   ]
  },
  {
   "cell_type": "code",
   "execution_count": 1,
   "metadata": {},
   "outputs": [
    {
     "name": "stdout",
     "output_type": "stream",
     "text": [
      "hello\n",
      "hello\n",
      "hello\n",
      "hello\n",
      "hello\n"
     ]
    }
   ],
   "source": [
    "def hello5():\n",
    "    print('hello')\n",
    "    print('hello')\n",
    "    print('hello')\n",
    "    print('hello')\n",
    "    print('hello')\n",
    "hello5()"
   ]
  },
  {
   "cell_type": "code",
   "execution_count": 2,
   "metadata": {},
   "outputs": [
    {
     "name": "stdout",
     "output_type": "stream",
     "text": [
      "Hello Nasir Uddin\n"
     ]
    }
   ],
   "source": [
    "def greet(person):\n",
    "    print('Hello ' + person)\n",
    "\n",
    "greet('Nasir Uddin')    "
   ]
  },
  {
   "cell_type": "code",
   "execution_count": 3,
   "metadata": {},
   "outputs": [
    {
     "data": {
      "text/plain": [
       "9"
      ]
     },
     "execution_count": 3,
     "metadata": {},
     "output_type": "execute_result"
    }
   ],
   "source": [
    "def addNums(num, num2):\n",
    "    return num + num2\n",
    "\n",
    "addNums(2, 7)"
   ]
  },
  {
   "cell_type": "code",
   "execution_count": 4,
   "metadata": {},
   "outputs": [
    {
     "name": "stdout",
     "output_type": "stream",
     "text": [
      "1 is a factor\n",
      "3 is a factor\n",
      "41 is a factor\n",
      "123 is a factor\n"
     ]
    }
   ],
   "source": [
    "def factorise(num):\n",
    "    for i in range(1, num + 1):\n",
    "        if num % i == 0:\n",
    "            print(str(i) + ' is a factor')\n",
    "            \n",
    "factorise(123)            "
   ]
  },
  {
   "cell_type": "markdown",
   "metadata": {},
   "source": [
    "### 16. Using Functions to Organise<br/>Larger Programs"
   ]
  },
  {
   "cell_type": "code",
   "execution_count": 5,
   "metadata": {},
   "outputs": [
    {
     "name": "stdout",
     "output_type": "stream",
     "text": [
      "Please make your selection entering a number: \n",
      "Press 1 for computer greeting: \n",
      "Press 2 for times table: \n",
      "Press 3 for factorisation: \n",
      "Your selection: 3\n",
      "Enter a number you wish to factorise: 150\n",
      "1 is factor\n",
      "2 is factor\n",
      "3 is factor\n",
      "5 is factor\n",
      "6 is factor\n",
      "10 is factor\n",
      "15 is factor\n",
      "25 is factor\n",
      "30 is factor\n",
      "50 is factor\n",
      "75 is factor\n",
      "150 is factor\n"
     ]
    }
   ],
   "source": [
    "def main():\n",
    "    print('Please make your selection entering a number: ')\n",
    "    print('Press 1 for computer greeting: ')\n",
    "    print('Press 2 for times table: ')\n",
    "    print('Press 3 for factorisation: ')\n",
    "\n",
    "    choise = int(input('Your selection: '))\n",
    "\n",
    "    if choise == 1:\n",
    "        computerGreeting()\n",
    "    if choise == 2:\n",
    "        timesTable()\n",
    "    if choise == 3:\n",
    "        factorisation()\n",
    "\n",
    "def factorisation():\n",
    "    num = input('Enter a number you wish to factorise: ')\n",
    "    number = int(num)\n",
    "    counter = 0\n",
    "    for i in range(1, number + 1):\n",
    "        if(number % i == 0):\n",
    "            print(str(i) + ' is factor')\n",
    "            counter = counter + 1\n",
    "    if(counter == 2):\n",
    "        print(str(number) + ' is a prime number')\n",
    "        \n",
    "def computerGreeting():\n",
    "    print('Hello Human, what is your name?')\n",
    "    name = input()\n",
    "    if(name == 'Sujon'):\n",
    "        print('aaah, its you again Sujon')\n",
    "    elif(name == 'Tapos'):\n",
    "        print('Heey tapos, hows it been')\n",
    "    elif(name == 'Mahamud'):\n",
    "        print('Uzzal you are the best ever of all time')\n",
    "    else:\n",
    "        print('I dont know you ' + name + ' go away')\n",
    "    print('The end')\n",
    "\n",
    "\n",
    "def timesTable():    \n",
    "    num = input('enter a number: ')\n",
    "    num = int(num)\n",
    "    print('here your times table')\n",
    "    for i in range(1, 11):\n",
    "        print(num*i)\n",
    "        \n",
    "# Now called main function here...\n",
    "main()"
   ]
  },
  {
   "cell_type": "markdown",
   "metadata": {},
   "source": [
    "### 17. Built in String Functions in<br/>Python"
   ]
  },
  {
   "cell_type": "markdown",
   "metadata": {},
   "source": [
    "#### Download \n",
    "<a href=\"original.pdf\" target=\"_blank\">Clictk</a>"
   ]
  },
  {
   "cell_type": "code",
   "execution_count": 6,
   "metadata": {},
   "outputs": [
    {
     "data": {
      "text/plain": [
       "'THIS IS SOMETHING INTERSTING'"
      ]
     },
     "execution_count": 6,
     "metadata": {},
     "output_type": "execute_result"
    }
   ],
   "source": [
    "bobo = 'This is something InTersting'\n",
    "bobo.upper()"
   ]
  },
  {
   "cell_type": "code",
   "execution_count": 7,
   "metadata": {},
   "outputs": [
    {
     "data": {
      "text/plain": [
       "'This is something InTersting'"
      ]
     },
     "execution_count": 7,
     "metadata": {},
     "output_type": "execute_result"
    }
   ],
   "source": [
    "bobo"
   ]
  },
  {
   "cell_type": "code",
   "execution_count": 8,
   "metadata": {},
   "outputs": [
    {
     "data": {
      "text/plain": [
       "'ABCD'"
      ]
     },
     "execution_count": 8,
     "metadata": {},
     "output_type": "execute_result"
    }
   ],
   "source": [
    "s = 'abcd'\n",
    "s.upper()"
   ]
  },
  {
   "cell_type": "code",
   "execution_count": 10,
   "metadata": {},
   "outputs": [
    {
     "data": {
      "text/plain": [
       "'This is something intersting'"
      ]
     },
     "execution_count": 10,
     "metadata": {},
     "output_type": "execute_result"
    }
   ],
   "source": [
    "bobo.capitalize()"
   ]
  },
  {
   "cell_type": "code",
   "execution_count": 11,
   "metadata": {},
   "outputs": [
    {
     "data": {
      "text/plain": [
       "'this is something intersting'"
      ]
     },
     "execution_count": 11,
     "metadata": {},
     "output_type": "execute_result"
    }
   ],
   "source": [
    "bobo.lower()"
   ]
  },
  {
   "cell_type": "code",
   "execution_count": 13,
   "metadata": {},
   "outputs": [
    {
     "data": {
      "text/plain": [
       "'This Is Something Intersting'"
      ]
     },
     "execution_count": 13,
     "metadata": {},
     "output_type": "execute_result"
    }
   ],
   "source": [
    "bobo.title()"
   ]
  },
  {
   "cell_type": "code",
   "execution_count": 14,
   "metadata": {},
   "outputs": [
    {
     "data": {
      "text/plain": [
       "'Thi$ i$ $omething InTer$ting'"
      ]
     },
     "execution_count": 14,
     "metadata": {},
     "output_type": "execute_result"
    }
   ],
   "source": [
    "bobo.replace('s', '$')"
   ]
  },
  {
   "cell_type": "code",
   "execution_count": 15,
   "metadata": {},
   "outputs": [
    {
     "data": {
      "text/plain": [
       "1"
      ]
     },
     "execution_count": 15,
     "metadata": {},
     "output_type": "execute_result"
    }
   ],
   "source": [
    "bobo.count('r')"
   ]
  },
  {
   "cell_type": "code",
   "execution_count": 19,
   "metadata": {},
   "outputs": [
    {
     "data": {
      "text/plain": [
       "'This is something InTersting'"
      ]
     },
     "execution_count": 19,
     "metadata": {},
     "output_type": "execute_result"
    }
   ],
   "source": [
    "bobo.strip('N')"
   ]
  },
  {
   "cell_type": "code",
   "execution_count": 20,
   "metadata": {},
   "outputs": [
    {
     "data": {
      "text/plain": [
       "'his is something InTersting'"
      ]
     },
     "execution_count": 20,
     "metadata": {},
     "output_type": "execute_result"
    }
   ],
   "source": [
    "bobo.strip('T')"
   ]
  },
  {
   "cell_type": "code",
   "execution_count": 21,
   "metadata": {},
   "outputs": [
    {
     "data": {
      "text/plain": [
       "'This is something InTerstin'"
      ]
     },
     "execution_count": 21,
     "metadata": {},
     "output_type": "execute_result"
    }
   ],
   "source": [
    "bobo.strip('g')"
   ]
  },
  {
   "cell_type": "code",
   "execution_count": 22,
   "metadata": {},
   "outputs": [
    {
     "data": {
      "text/plain": [
       "['This', 'is', 'something', 'InTersting']"
      ]
     },
     "execution_count": 22,
     "metadata": {},
     "output_type": "execute_result"
    }
   ],
   "source": [
    "bobo.split()"
   ]
  },
  {
   "cell_type": "code",
   "execution_count": 23,
   "metadata": {},
   "outputs": [
    {
     "data": {
      "text/plain": [
       "28"
      ]
     },
     "execution_count": 23,
     "metadata": {},
     "output_type": "execute_result"
    }
   ],
   "source": [
    "len(bobo)"
   ]
  },
  {
   "cell_type": "code",
   "execution_count": 24,
   "metadata": {},
   "outputs": [
    {
     "data": {
      "text/plain": [
       "'This is something InTerstingabcd'"
      ]
     },
     "execution_count": 24,
     "metadata": {},
     "output_type": "execute_result"
    }
   ],
   "source": [
    "bobo + s"
   ]
  },
  {
   "cell_type": "code",
   "execution_count": 25,
   "metadata": {},
   "outputs": [
    {
     "data": {
      "text/plain": [
       "'This is something InTerstingThis is something InTerstingThis is something InTerstingThis is something InTerstingThis is something InTerstingThis is something InTerstingThis is something InTerstingThis is something InTerstingThis is something InTerstingThis is something InTersting'"
      ]
     },
     "execution_count": 25,
     "metadata": {},
     "output_type": "execute_result"
    }
   ],
   "source": [
    "bobo * 10"
   ]
  },
  {
   "cell_type": "code",
   "execution_count": 26,
   "metadata": {},
   "outputs": [
    {
     "data": {
      "text/plain": [
       "'s is so'"
      ]
     },
     "execution_count": 26,
     "metadata": {},
     "output_type": "execute_result"
    }
   ],
   "source": [
    "bobo[3:10]"
   ]
  },
  {
   "cell_type": "code",
   "execution_count": 27,
   "metadata": {},
   "outputs": [
    {
     "data": {
      "text/plain": [
       "2"
      ]
     },
     "execution_count": 27,
     "metadata": {},
     "output_type": "execute_result"
    }
   ],
   "source": [
    "bobo.find('i')"
   ]
  },
  {
   "cell_type": "code",
   "execution_count": 28,
   "metadata": {},
   "outputs": [
    {
     "data": {
      "text/plain": [
       "False"
      ]
     },
     "execution_count": 28,
     "metadata": {},
     "output_type": "execute_result"
    }
   ],
   "source": [
    "bobo.isupper()"
   ]
  },
  {
   "cell_type": "code",
   "execution_count": 29,
   "metadata": {},
   "outputs": [
    {
     "data": {
      "text/plain": [
       "False"
      ]
     },
     "execution_count": 29,
     "metadata": {},
     "output_type": "execute_result"
    }
   ],
   "source": [
    "bobo.isnumeric()"
   ]
  },
  {
   "cell_type": "code",
   "execution_count": 31,
   "metadata": {},
   "outputs": [
    {
     "data": {
      "text/plain": [
       "'\\nBy defining a color space, colors can be identified numerically by coordinates,\\nwhich in 1931 were also named in global agreement with internationally agreed \\ncolor names like mentioned above (red, orange, etc.) by the International\\nCommission on Illumination. The RGB color space for instance is a color \\nspace corresponding to human trichromacy and to the three cone cell types\\nthat respond to three bands of light: long wavelengths, peaking near 564–580 nm (red);\\nmedium-wavelength, peaking near 534–545 nm (green); and short-wavelength light,\\nnear 420–440 nm (blue).[1][2] There may also be more than three color dimensions\\nin other color spaces, such as in the CMYK color model,\\nwherein one of the dimensions relates to a colors colorfulness\\n'"
      ]
     },
     "execution_count": 31,
     "metadata": {},
     "output_type": "execute_result"
    }
   ],
   "source": [
    "color = '''\n",
    "By defining a color space, colors can be identified numerically by coordinates,\n",
    "which in 1931 were also named in global agreement with internationally agreed \n",
    "color names like mentioned above (red, orange, etc.) by the International\n",
    "Commission on Illumination. The RGB color space for instance is a color \n",
    "space corresponding to human trichromacy and to the three cone cell types\n",
    "that respond to three bands of light: long wavelengths, peaking near 564–580 nm (red);\n",
    "medium-wavelength, peaking near 534–545 nm (green); and short-wavelength light,\n",
    "near 420–440 nm (blue).[1][2] There may also be more than three color dimensions\n",
    "in other color spaces, such as in the CMYK color model,\n",
    "wherein one of the dimensions relates to a colors colorfulness\n",
    "'''\n",
    "color"
   ]
  },
  {
   "cell_type": "code",
   "execution_count": 33,
   "metadata": {},
   "outputs": [
    {
     "data": {
      "text/plain": [
       "'\\nBy defining a clour space, clours can be identified numerically by coordinates,\\nwhich in 1931 were also named in global agreement with internationally agreed \\nclour names like mentioned above (red, orange, etc.) by the International\\nCommission on Illumination. The RGB clour space for instance is a clour \\nspace corresponding to human trichromacy and to the three cone cell types\\nthat respond to three bands of light: long wavelengths, peaking near 564–580 nm (red);\\nmedium-wavelength, peaking near 534–545 nm (green); and short-wavelength light,\\nnear 420–440 nm (blue).[1][2] There may also be more than three clour dimensions\\nin other clour spaces, such as in the CMYK clour model,\\nwherein one of the dimensions relates to a clours clourfulness\\n'"
      ]
     },
     "execution_count": 33,
     "metadata": {},
     "output_type": "execute_result"
    }
   ],
   "source": [
    "color.replace('color', 'clour')"
   ]
  },
  {
   "cell_type": "markdown",
   "metadata": {},
   "source": [
    "# Section 4: Coding Exercises in<br/>Basic Concepts"
   ]
  },
  {
   "cell_type": "markdown",
   "metadata": {},
   "source": [
    "#### Coding Exercise 1: Add Numbers up"
   ]
  },
  {
   "cell_type": "markdown",
   "metadata": {},
   "source": [
    "##### Add Numbers up to\n",
    "<p>In this exercise you have to write a function that adds numbers up to an inputted number.</p>\n",
    "<p>For example</p>\n",
    "\n",
    "<p><code>addNumbersUpto(10)</code>&nbsp; will return&nbsp;&nbsp;<code>55</code>&nbsp; &nbsp;this is because&nbsp;1+2+3+4+5+6+7+8+9+10 = 55</p>\n",
    "\n",
    "<p><code>addNumbersUpto(18)</code>&nbsp; will return&nbsp;&nbsp;<code>171</code>&nbsp;<br></p>\n",
    "\n",
    "<p><br></p>"
   ]
  },
  {
   "cell_type": "code",
   "execution_count": 38,
   "metadata": {},
   "outputs": [
    {
     "data": {
      "text/plain": [
       "171"
      ]
     },
     "execution_count": 38,
     "metadata": {},
     "output_type": "execute_result"
    }
   ],
   "source": [
    "def addNumbersUpto(n):\n",
    "    #your code goes here\n",
    "    result = 0\n",
    "    for i in range(1, n+1):\n",
    "        result = result + i\n",
    "    return result #the answer goes here after the return command\n",
    "addNumbersUpto(18)"
   ]
  },
  {
   "cell_type": "markdown",
   "metadata": {},
   "source": [
    "#### Coding Exercise 2: Sphere Volume"
   ]
  },
  {
   "cell_type": "markdown",
   "metadata": {},
   "source": [
    "##### Sphere Volume\n",
    "<p>In this exercise you need to write a function that returns the volume of a sphere according to this formula:</p>\n",
    "<img src=\"https://i.udemycdn.com/redactor/raw/2018-02-06_04-42-34-36e156496dc513c0a3003e200995a50e.jpg\">\n",
    "<p>so</p>\n",
    "<p> <code>sphere(5) </code>&nbsp;would return&nbsp;<code>523.5987755983333</code>&nbsp;</p>\n",
    "<p>and&nbsp;</p>\n",
    "<p><code>sphere(10) </code>&nbsp;would return&nbsp;<code>4188.790204786666</code>&nbsp;</p>"
   ]
  },
  {
   "cell_type": "code",
   "execution_count": 45,
   "metadata": {},
   "outputs": [
    {
     "data": {
      "text/plain": [
       "523.5987755982987"
      ]
     },
     "execution_count": 45,
     "metadata": {},
     "output_type": "execute_result"
    }
   ],
   "source": [
    "import math\n",
    "\n",
    "def sphere(radius):\n",
    "    #Write your code here\n",
    "    return (4 / 3) * ((math.pi) * (radius**3))\n",
    "\n",
    "sphere(5)"
   ]
  },
  {
   "cell_type": "markdown",
   "metadata": {},
   "source": [
    "### Coding Exercise 3: Returning a string<br/>with the vowels stripped"
   ]
  },
  {
   "cell_type": "markdown",
   "metadata": {},
   "source": [
    "#### Returning a string with the vowels stripped\n",
    "<p>In this coding exercise the goals is to take in a string and then reuturn the string with all the vowels stripped.&nbsp;</p>\n",
    "<p>So here is an example of how it works&nbsp;</p>\n",
    "<p><code>stripVowels('Python Fundamentals')</code>&nbsp; will return&nbsp;<code>'Pythn Fndmntls'</code>&nbsp;<br></p>\n",
    "<p>and&nbsp;</p>\n",
    "<p><code>stripVowels('This will be pretty cool')</code>&nbsp; will return<code> 'Ths wll b prtty cl' </code>&nbsp;<br></p></div>"
   ]
  },
  {
   "cell_type": "code",
   "execution_count": 62,
   "metadata": {},
   "outputs": [
    {
     "name": "stdout",
     "output_type": "stream",
     "text": [
      "Ths wll b prtty cl\n"
     ]
    }
   ],
   "source": [
    "def stripVowels(string):\n",
    "    # Write your code here\n",
    "    vowels = ('a', 'e', 'i', 'o', 'u')  \n",
    "    for x in string.lower(): \n",
    "        if x in vowels: \n",
    "            string = string.replace(x, \"\") \n",
    "              \n",
    "    # Print string without vowels \n",
    "    print(string) \n",
    "\n",
    "stripVowels('This will be pretty cool')\n",
    "# stripVowels('This will be pretty cool')"
   ]
  },
  {
   "cell_type": "markdown",
   "metadata": {},
   "source": [
    "### Coding Exercise 4: Returning a<br/>reversed String"
   ]
  },
  {
   "cell_type": "markdown",
   "metadata": {},
   "source": [
    "#### Returning a reversed String\n",
    "<p>In this coding exercise your goal is to take in a string and reverse it so that the last letter becomes the first and the first letter becomes the last</p>\n",
    "<p>so that&nbsp;</p>\n",
    "<p><code>reverse('algorithm') </code>&nbsp;will return&nbsp;<code>mhtirogla</code>&nbsp;<br></p>\n",
    "<p><code>reverse('Python Fundamentals')</code>&nbsp; will return&nbsp;<code>slatnemadnuF nohtyP</code>&nbsp;</p></div>"
   ]
  },
  {
   "cell_type": "code",
   "execution_count": 2,
   "metadata": {},
   "outputs": [
    {
     "data": {
      "text/plain": [
       "'slatnemadnuF nohtyP'"
      ]
     },
     "execution_count": 2,
     "metadata": {},
     "output_type": "execute_result"
    }
   ],
   "source": [
    "def reverse(string):\n",
    "    #Put your code here \n",
    "    return string[::-1]\n",
    "\n",
    "reverse('Python Fundamentals')"
   ]
  },
  {
   "cell_type": "markdown",
   "metadata": {},
   "source": [
    "# Section 5: Lists and Dictionaries<br/><code style=\"font-size:12px\">0 / 4 | 27min</code>"
   ]
  },
  {
   "cell_type": "markdown",
   "metadata": {},
   "source": [
    "### 18. Lists"
   ]
  },
  {
   "cell_type": "code",
   "execution_count": 2,
   "metadata": {},
   "outputs": [
    {
     "data": {
      "text/plain": [
       "[1, 2, 3, 4, 5]"
      ]
     },
     "execution_count": 2,
     "metadata": {},
     "output_type": "execute_result"
    }
   ],
   "source": [
    "numbers = [1, 2, 3, 4, 5]\n",
    "numbers"
   ]
  },
  {
   "cell_type": "code",
   "execution_count": 3,
   "metadata": {},
   "outputs": [],
   "source": [
    "letters = ['a', 'b', 'c', 'd', 'e']"
   ]
  },
  {
   "cell_type": "code",
   "execution_count": 4,
   "metadata": {},
   "outputs": [
    {
     "data": {
      "text/plain": [
       "'a'"
      ]
     },
     "execution_count": 4,
     "metadata": {},
     "output_type": "execute_result"
    }
   ],
   "source": [
    "letters[0]"
   ]
  },
  {
   "cell_type": "code",
   "execution_count": 5,
   "metadata": {},
   "outputs": [
    {
     "data": {
      "text/plain": [
       "'b'"
      ]
     },
     "execution_count": 5,
     "metadata": {},
     "output_type": "execute_result"
    }
   ],
   "source": [
    "letters[1]"
   ]
  },
  {
   "cell_type": "code",
   "execution_count": 6,
   "metadata": {},
   "outputs": [
    {
     "data": {
      "text/plain": [
       "1"
      ]
     },
     "execution_count": 6,
     "metadata": {},
     "output_type": "execute_result"
    }
   ],
   "source": [
    "numbers[0]"
   ]
  },
  {
   "cell_type": "code",
   "execution_count": 7,
   "metadata": {},
   "outputs": [
    {
     "data": {
      "text/plain": [
       "2"
      ]
     },
     "execution_count": 7,
     "metadata": {},
     "output_type": "execute_result"
    }
   ],
   "source": [
    "numbers[1]"
   ]
  },
  {
   "cell_type": "code",
   "execution_count": 8,
   "metadata": {},
   "outputs": [],
   "source": [
    "numbers[2] = 11"
   ]
  },
  {
   "cell_type": "code",
   "execution_count": 9,
   "metadata": {},
   "outputs": [
    {
     "data": {
      "text/plain": [
       "[1, 2, 11, 4, 5]"
      ]
     },
     "execution_count": 9,
     "metadata": {},
     "output_type": "execute_result"
    }
   ],
   "source": [
    "numbers"
   ]
  },
  {
   "cell_type": "code",
   "execution_count": 10,
   "metadata": {},
   "outputs": [],
   "source": [
    "letters[0] = 1"
   ]
  },
  {
   "cell_type": "code",
   "execution_count": 11,
   "metadata": {},
   "outputs": [
    {
     "data": {
      "text/plain": [
       "[1, 'b', 'c', 'd', 'e']"
      ]
     },
     "execution_count": 11,
     "metadata": {},
     "output_type": "execute_result"
    }
   ],
   "source": [
    "letters"
   ]
  },
  {
   "cell_type": "code",
   "execution_count": 12,
   "metadata": {},
   "outputs": [
    {
     "data": {
      "text/plain": [
       "[1, 'b', 'c', 'd', 'e', 1, 2, 11, 4, 5]"
      ]
     },
     "execution_count": 12,
     "metadata": {},
     "output_type": "execute_result"
    }
   ],
   "source": [
    "letters + numbers"
   ]
  },
  {
   "cell_type": "code",
   "execution_count": 13,
   "metadata": {},
   "outputs": [
    {
     "data": {
      "text/plain": [
       "[1, 'b', 'c', 'd', 'e', 1, 'b', 'c', 'd', 'e', 1, 'b', 'c', 'd', 'e']"
      ]
     },
     "execution_count": 13,
     "metadata": {},
     "output_type": "execute_result"
    }
   ],
   "source": [
    "letters * 3"
   ]
  },
  {
   "cell_type": "code",
   "execution_count": 14,
   "metadata": {},
   "outputs": [
    {
     "data": {
      "text/plain": [
       "True"
      ]
     },
     "execution_count": 14,
     "metadata": {},
     "output_type": "execute_result"
    }
   ],
   "source": [
    "'b' in letters"
   ]
  },
  {
   "cell_type": "code",
   "execution_count": 15,
   "metadata": {},
   "outputs": [
    {
     "data": {
      "text/plain": [
       "False"
      ]
     },
     "execution_count": 15,
     "metadata": {},
     "output_type": "execute_result"
    }
   ],
   "source": [
    "'k' in letters"
   ]
  },
  {
   "cell_type": "code",
   "execution_count": 16,
   "metadata": {},
   "outputs": [],
   "source": [
    "bigList = numbers + letters"
   ]
  },
  {
   "cell_type": "code",
   "execution_count": 18,
   "metadata": {},
   "outputs": [
    {
     "data": {
      "text/plain": [
       "[1, 2, 11, 4, 5, 1, 'b', 'c', 'd', 'e']"
      ]
     },
     "execution_count": 18,
     "metadata": {},
     "output_type": "execute_result"
    }
   ],
   "source": [
    "bigList"
   ]
  },
  {
   "cell_type": "code",
   "execution_count": 19,
   "metadata": {},
   "outputs": [
    {
     "name": "stdout",
     "output_type": "stream",
     "text": [
      "1 2 11 4 5 1 b c d e "
     ]
    }
   ],
   "source": [
    "for item in bigList:\n",
    "    print(item, end=' ')"
   ]
  },
  {
   "cell_type": "markdown",
   "metadata": {},
   "source": [
    "### 19. Creating Lists of Prime Numbers"
   ]
  },
  {
   "cell_type": "code",
   "execution_count": 20,
   "metadata": {},
   "outputs": [],
   "source": [
    "numbers = [1, 3, 53, 19, 99, 7]\n",
    "letters = ['a', 'b', 'c']"
   ]
  },
  {
   "cell_type": "code",
   "execution_count": 21,
   "metadata": {},
   "outputs": [
    {
     "data": {
      "text/plain": [
       "[1, 3, 53, 19, 99, 7]"
      ]
     },
     "execution_count": 21,
     "metadata": {},
     "output_type": "execute_result"
    }
   ],
   "source": [
    "numbers"
   ]
  },
  {
   "cell_type": "code",
   "execution_count": 23,
   "metadata": {},
   "outputs": [
    {
     "data": {
      "text/plain": [
       "[1, 3, 53, 19, 99, 7, 33, 33]"
      ]
     },
     "execution_count": 23,
     "metadata": {},
     "output_type": "execute_result"
    }
   ],
   "source": [
    "numbers.append(33)\n",
    "numbers"
   ]
  },
  {
   "cell_type": "code",
   "execution_count": 24,
   "metadata": {},
   "outputs": [
    {
     "data": {
      "text/plain": [
       "[1, 3, 53, 19, 99, 7, 33, 33, 'a', 'b', 'c']"
      ]
     },
     "execution_count": 24,
     "metadata": {},
     "output_type": "execute_result"
    }
   ],
   "source": [
    "numbers.extend(letters)\n",
    "numbers"
   ]
  },
  {
   "cell_type": "code",
   "execution_count": 25,
   "metadata": {},
   "outputs": [
    {
     "data": {
      "text/plain": [
       "'c'"
      ]
     },
     "execution_count": 25,
     "metadata": {},
     "output_type": "execute_result"
    }
   ],
   "source": [
    "numbers.pop()"
   ]
  },
  {
   "cell_type": "code",
   "execution_count": 26,
   "metadata": {},
   "outputs": [
    {
     "data": {
      "text/plain": [
       "[1, 3, 53, 19, 99, 7, 33, 33, 'a', 'b']"
      ]
     },
     "execution_count": 26,
     "metadata": {},
     "output_type": "execute_result"
    }
   ],
   "source": [
    "numbers"
   ]
  },
  {
   "cell_type": "code",
   "execution_count": 27,
   "metadata": {},
   "outputs": [
    {
     "data": {
      "text/plain": [
       "'b'"
      ]
     },
     "execution_count": 27,
     "metadata": {},
     "output_type": "execute_result"
    }
   ],
   "source": [
    "numbers.pop()"
   ]
  },
  {
   "cell_type": "code",
   "execution_count": 28,
   "metadata": {},
   "outputs": [
    {
     "data": {
      "text/plain": [
       "[1, 3, 53, 19, 99, 7, 33, 33, 'a']"
      ]
     },
     "execution_count": 28,
     "metadata": {},
     "output_type": "execute_result"
    }
   ],
   "source": [
    "numbers"
   ]
  },
  {
   "cell_type": "code",
   "execution_count": 29,
   "metadata": {},
   "outputs": [],
   "source": [
    "numbers.insert(4, 'ANYTHING')"
   ]
  },
  {
   "cell_type": "code",
   "execution_count": 30,
   "metadata": {},
   "outputs": [
    {
     "data": {
      "text/plain": [
       "[1, 3, 53, 19, 'ANYTHING', 99, 7, 33, 33, 'a']"
      ]
     },
     "execution_count": 30,
     "metadata": {},
     "output_type": "execute_result"
    }
   ],
   "source": [
    "numbers"
   ]
  },
  {
   "cell_type": "code",
   "execution_count": 34,
   "metadata": {},
   "outputs": [
    {
     "name": "stdout",
     "output_type": "stream",
     "text": [
      "Enter the upper limit: 100\n",
      "[2, 3, 5, 7, 11, 13, 17, 19, 23, 29, 31, 37, 41, 43, 47, 53, 59, 61, 67, 71, 73, 79, 83, 89, 97]\n"
     ]
    }
   ],
   "source": [
    "limit = int(input('Enter the upper limit: '))\n",
    "primes = []\n",
    "\n",
    "for num in range(2, limit + 1):\n",
    "    counter = 0\n",
    "    for i in range(1, num + 1):\n",
    "        if(num % i == 0):\n",
    "            counter = counter + 1\n",
    "    if(counter == 2):\n",
    "        primes.append(num)\n",
    "print(primes)"
   ]
  },
  {
   "cell_type": "markdown",
   "metadata": {},
   "source": [
    "### 20. Dictionaries"
   ]
  },
  {
   "cell_type": "code",
   "execution_count": 35,
   "metadata": {},
   "outputs": [],
   "source": [
    "# dict syntax \n",
    "d = {}"
   ]
  },
  {
   "cell_type": "code",
   "execution_count": 36,
   "metadata": {},
   "outputs": [
    {
     "data": {
      "text/plain": [
       "dict"
      ]
     },
     "execution_count": 36,
     "metadata": {},
     "output_type": "execute_result"
    }
   ],
   "source": [
    "type(d)"
   ]
  },
  {
   "cell_type": "code",
   "execution_count": 37,
   "metadata": {},
   "outputs": [
    {
     "data": {
      "text/plain": [
       "{'banana': 'tasty fruit'}"
      ]
     },
     "execution_count": 37,
     "metadata": {},
     "output_type": "execute_result"
    }
   ],
   "source": [
    "d['banana'] = 'tasty fruit'\n",
    "d"
   ]
  },
  {
   "cell_type": "code",
   "execution_count": 38,
   "metadata": {},
   "outputs": [
    {
     "data": {
      "text/plain": [
       "{'banana': 'tasty fruit', 4: 'four'}"
      ]
     },
     "execution_count": 38,
     "metadata": {},
     "output_type": "execute_result"
    }
   ],
   "source": [
    "d[4] = 'four'\n",
    "d"
   ]
  },
  {
   "cell_type": "code",
   "execution_count": 39,
   "metadata": {},
   "outputs": [
    {
     "data": {
      "text/plain": [
       "{'banana': 'tasty fruit', 4: 'four', 5: 1000}"
      ]
     },
     "execution_count": 39,
     "metadata": {},
     "output_type": "execute_result"
    }
   ],
   "source": [
    "d[5] = 1000\n",
    "d"
   ]
  },
  {
   "cell_type": "code",
   "execution_count": 40,
   "metadata": {},
   "outputs": [
    {
     "data": {
      "text/plain": [
       "{'banana': 'Yellow and yummy', 4: 'four', 5: 1000}"
      ]
     },
     "execution_count": 40,
     "metadata": {},
     "output_type": "execute_result"
    }
   ],
   "source": [
    "d['banana'] = 'Yellow and yummy'\n",
    "d"
   ]
  },
  {
   "cell_type": "code",
   "execution_count": 41,
   "metadata": {},
   "outputs": [],
   "source": [
    "jane = {}\n",
    "jane['age'] = 29\n",
    "jane['residance'] = 'Dhaka, Bangladesh'\n",
    "jane['height'] = 172"
   ]
  },
  {
   "cell_type": "code",
   "execution_count": 42,
   "metadata": {},
   "outputs": [
    {
     "data": {
      "text/plain": [
       "{'age': 29, 'residance': 'Dhaka, Bangladesh', 'height': 172}"
      ]
     },
     "execution_count": 42,
     "metadata": {},
     "output_type": "execute_result"
    }
   ],
   "source": [
    "jane"
   ]
  },
  {
   "cell_type": "code",
   "execution_count": 47,
   "metadata": {},
   "outputs": [],
   "source": [
    "jane['Age'] = 30"
   ]
  },
  {
   "cell_type": "code",
   "execution_count": 46,
   "metadata": {},
   "outputs": [
    {
     "data": {
      "text/plain": [
       "{'age': 30, 'residance': 'Dhaka, Bangladesh', 'height': 172, 'Age': 30}"
      ]
     },
     "execution_count": 46,
     "metadata": {},
     "output_type": "execute_result"
    }
   ],
   "source": [
    "jane"
   ]
  },
  {
   "cell_type": "code",
   "execution_count": 48,
   "metadata": {},
   "outputs": [
    {
     "data": {
      "text/plain": [
       "30"
      ]
     },
     "execution_count": 48,
     "metadata": {},
     "output_type": "execute_result"
    }
   ],
   "source": [
    "jane['age']"
   ]
  },
  {
   "cell_type": "code",
   "execution_count": 49,
   "metadata": {},
   "outputs": [
    {
     "data": {
      "text/plain": [
       "{'age': 30, 'residance': 'Dhaka, Bangladesh', 'height': 172, 'Age': 30}"
      ]
     },
     "execution_count": 49,
     "metadata": {},
     "output_type": "execute_result"
    }
   ],
   "source": [
    "jane"
   ]
  },
  {
   "cell_type": "markdown",
   "metadata": {},
   "source": [
    "### 21. Applied Dictionary Swapping<br/>Words With Synonyms"
   ]
  },
  {
   "cell_type": "code",
   "execution_count": 55,
   "metadata": {},
   "outputs": [
    {
     "name": "stdout",
     "output_type": "stream",
     "text": [
      "Hagrid looked at Harry with warmth and respect blazing in his\n",
      "eyes, but Harry, instead of feeling pleased and proud, felt quite\n",
      "sure there had been a horrible mistake. A wizard? Him? How\n",
      "could he possibly be? He’d spent his life being clouted by Dudley\n",
      "and bullied by Aunt Petunia and Uncle Vernon; if he was really a\n",
      "wizard, why hadn’t they been turned into warty toads every time\n",
      "they’d tried to lock him in his cupboard? If he’d once defeated the\n",
      "greatest sorcerer in the world, how come Dudley had always been\n",
      "able to kick him around like a football?\n",
      "‘Hagrid,’ he said quietly, ‘I think you must have made a mistake.\n",
      "I don’t think I can be a wizard.’\n",
      "To his surprise, Hagrid chuckled.\n",
      "‘Not a wizard, eh? Never made things happen when you was\n",
      "scared, or angry?’\n",
      "Harry looked into the fire. Now he came to think about it ...\n",
      "every odd thing that had ever made his aunt and uncle furious\n",
      "with him had happened when he, Harry, had been upset or angry\n",
      "... chased by Dudley’s gang, he had somehow found himself out of\n",
      "their reach ... dreading going to school with that ridiculous haircut, he’d managed to make it grow back ... and the very last time\n",
      "Dudley had hit him, hadn’t he got his revenge, without even realising he was doing it? Hadn’t he set a boa constrictor on him?\n",
      "Harry looked back at Hagrid, smiling, and saw that Hagrid was\n",
      "positively beaming at him.\n",
      "‘See?’ said Hagrid. ‘Harry Potter, not a wizard – you wait, you’ll\n",
      "be right famous at Hogwarts.’\n",
      "But Uncle Vernon wasn’t going to give in without a fight.\n",
      "‘Haven’t I told you he’s not going?’ he hissed. ‘He’s going to\n",
      "Stonewall High and he’ll be grateful for it. I’ve read those letters\n",
      "and he needs all sorts of rubbish – spell books and wands and –’\n",
      "‘If he wants ter go, a great Muggle like you won’t stop him,’\n",
      "growled Hagrid. ‘Stop Lily an’ James Potter’s son goin’ ter\n",
      "Hogwarts! Yer mad. His name’s been down ever since he was\n",
      "born. He’s off ter the finest school of witchcraft and wizardry in\n",
      "the world. Seven years there and he won’t know himself. He’ll be \n",
      "48 HARRY POTTER\n",
      "with youngsters of his own sort, fer a change, an’ he’ll be under the\n",
      "greatest Headmaster Hogwarts ever had, Albus Dumbled–’\n",
      "‘I AM NOT PAYING FOR SOME CRACKPOT OLD FOOL TO\n",
      "TEACH HIM MAGIC TRICKS!’ yelled Uncle Vernon.\n",
      "But he had finally gone too far. Hagrid seized his umbrella and\n",
      "whirled it over his head. ‘NEVER –’ he thundered, ‘– INSULT –\n",
      "ALBUS – DUMBLEDORE – IN – FRONT – OF – ME!’\n",
      "He brought the umbrella swishing down through the air to\n",
      "point at Dudley – there was a flash of violet light, a sound like a\n",
      "firecracker, a sharp squeal and next second, Dudley was dancing\n",
      "on the spot with his hands clasped over his fat bottom, howling in\n",
      "pain. When he turned his back on them, Harry saw a curly pig’s\n",
      "tail poking through a hole in his trousers.\n",
      "Uncle Vernon roared. Pulling Aunt Petunia and Dudley into the\n",
      "other room, he cast one last terrified look at Hagrid and slammed\n",
      "the door behind them.\n",
      "Hagrid looked down at his umbrella and stroked his beard.\n",
      "‘Shouldn’ta lost me temper,’ he said ruefully, ‘but it didn’t work\n",
      "anyway. Meant ter turn him into a pig, but I suppose he was so\n",
      "much like a pig anyway there wasn’t much left ter do.’\n",
      "He cast a sideways look at Harry under his bushy eyebrows.\n",
      "‘Be grateful if yeh didn’t mention that ter anyone at Hogwarts,’\n",
      "he said. ‘I’m – er – not supposed ter do magic, strictly speakin’. I\n",
      "was allowed ter do a bit ter follow yeh an’ get yer letters to yeh an’\n",
      "stuff – one o’ the reasons I was so keen ter take on the job –’\n",
      "‘Why aren’t you supposed to do magic?’ asked Harry.\n",
      "‘Oh, well – I was at Hogwarts meself but I – er – got expelled,\n",
      "ter tell yeh the truth. In me third year. They snapped me wand in\n",
      "half an’ everything. But Dumbledore let me stay on as gamekeeper.\n",
      "Great man, Dumbledore.’\n",
      "‘Why were you expelled?’\n",
      "‘It’s gettin’ late and we’ve got lots ter do tomorrow,’ said Hagrid\n",
      "loudly. ‘Gotta get up ter town, get all yer books an’ that.’\n",
      "He took off his thick black coat and threw it to Harry.\n",
      "‘You can kip under that,’ he said. ‘Don’ mind if it wriggles a bit,\n",
      "I think I still got a couple o’ dormice in one o’ the pockets.’ \n",
      "\n",
      "Harry woke early the next morning. Although he could tell it was\n",
      "daylight, he kept his eyes shut tight.\n",
      "‘It was a dream,’ he told himself firmly. ‘I dreamed a giant called\n",
      "Hagrid came to tell me I was going to a school for wizards. When\n",
      "I open my eyes I’ll be at home in my cupboard.’\n",
      "There was suddenly a loud tapping noise.\n",
      "‘And there’s Aunt Petunia knocking on the door,’ Harry\n",
      "thought, his heart sinking. But he still didn’t open his eyes. It had\n",
      "been such a good dream.\n",
      "Tap. Tap. Tap.\n",
      "‘All right,’ Harry mumbled, ‘I’m getting up.’\n",
      "He sat up and Hagrid’s heavy coat fell off him. The hut was full\n",
      "of sunlight, the storm was over, Hagrid himself was asleep on the\n",
      "collapsed sofa and there was an owl rapping its claw on the\n",
      "window, a newspaper held in its beak.\n",
      "Harry scrambled to his feet, so happy he felt as though a large\n",
      "balloon was swelling inside him. He went straight to the window\n",
      "and jerked it open. The owl swooped in and dropped the newspaper on top of Hagrid, who didn’t wake up. The owl then\n",
      "fluttered on to the floor and began to attack Hagrid’s coat.\n",
      "‘Don’t do that.’\n",
      "Harry tried to wave the owl out of the way, but it snapped its\n",
      "beak fiercely at him and carried on savaging the coat. \n"
     ]
    }
   ],
   "source": [
    "text = open('HarryPotter.txt')\n",
    "text = text.read()\n",
    "text = text[0:5600]\n",
    "print(text)"
   ]
  },
  {
   "cell_type": "code",
   "execution_count": 56,
   "metadata": {},
   "outputs": [
    {
     "name": "stdout",
     "output_type": "stream",
     "text": [
      "Hagrid looked at __Kid Magic__ with warmth and respect blazing in his\n",
      "eyes, but __Kid Magic__, instead of feeling pleased and proud, felt quite\n",
      "sure there had been a horrible mistake. A wizard? Him? How\n",
      "could he possibly be? He’d spent his life being clouted by __Mean Kid__\n",
      "and bullied by Aunt Petunia and Uncle Vernon; if he was really a\n",
      "wizard, why hadn’t they been turned into warty toads every time\n",
      "they’d tried to lock him in his cupboard? If he’d once defeated the\n",
      "greatest sorcerer in the world, how come __Mean Kid__ had always been\n",
      "able to kick him around like a football?\n",
      "‘Hagrid,’ he said quietly, ‘I think you must have made a mistake.\n",
      "I don’t think I can be a wizard.’\n",
      "To his surprise, Hagrid chuckled.\n",
      "‘Not a wizard, eh? Never made things happen when you was\n",
      "scared, or angry?’\n",
      "__Kid Magic__ looked into the fire. Now he came to think about it ...\n",
      "every odd thing that had ever made his aunt and uncle furious\n",
      "with him had happened when he, __Kid Magic__, had been upset or angry\n",
      "... chased by __Mean Kid__’s gang, he had somehow found himself out of\n",
      "their reach ... dreading going to school with that ridiculous haircut, he’d managed to make it grow back ... and the very last time\n",
      "__Mean Kid__ had hit him, hadn’t he got his revenge, without even realising he was doing it? Hadn’t he set a boa constrictor on him?\n",
      "__Kid Magic__ looked back at Hagrid, smiling, and saw that Hagrid was\n",
      "positively beaming at him.\n",
      "‘See?’ said Hagrid. ‘__Kid Magic__ Potter, not a wizard – you wait, you’ll\n",
      "be right famous at Hogwarts.’\n",
      "But Uncle Vernon wasn’t going to give in without a fight.\n",
      "‘Haven’t I told you he’s not going?’ he hissed. ‘He’s going to\n",
      "Stonewall High and he’ll be grateful for it. I’ve read those letters\n",
      "and he needs all sorts of rubbish – spell books and wands and –’\n",
      "‘If he wants ter go, a great Muggle like you won’t stop him,’\n",
      "growled Hagrid. ‘Stop Lily an’ James Potter’s son goin’ ter\n",
      "Hogwarts! Yer mad. His name’s been down ever since he was\n",
      "born. He’s off ter the finest school of witchcraft and wizardry in\n",
      "the world. Seven years there and he won’t know himself. He’ll be \n",
      "48 HARRY POTTER\n",
      "with youngsters of his own sort, fer a change, an’ he’ll be under the\n",
      "greatest Headmaster Hogwarts ever had, Albus Dumbled–’\n",
      "‘I AM NOT PAYING FOR SOME CRACKPOT OLD FOOL TO\n",
      "TEACH HIM MAGIC TRICKS!’ yelled Uncle Vernon.\n",
      "But he had finally gone too far. Hagrid seized his umbrella and\n",
      "whirled it over his head. ‘NEVER –’ he thundered, ‘– INSULT –\n",
      "ALBUS – DUMBLEDORE – IN – FRONT – OF – ME!’\n",
      "He brought the umbrella swishing down through the air to\n",
      "point at __Mean Kid__ – there was a flash of violet light, a sound like a\n",
      "firecracker, a sharp squeal and next second, __Mean Kid__ was dancing\n",
      "on the spot with his hands clasped over his fat bottom, howling in\n",
      "pain. When he turned his back on them, __Kid Magic__ saw a curly pig’s\n",
      "tail poking through a hole in his trousers.\n",
      "Uncle Vernon roared. Pulling Aunt Petunia and __Mean Kid__ into the\n",
      "other room, he cast one last terrified look at Hagrid and slammed\n",
      "the door behind them.\n",
      "Hagrid looked down at his umbrella and stroked his beard.\n",
      "‘Shouldn’ta lost me temper,’ he said ruefully, ‘but it didn’t work\n",
      "anyway. Meant ter turn him into a pig, but I suppose he was so\n",
      "much like a pig anyway there wasn’t much left ter do.’\n",
      "He cast a sideways look at __Kid Magic__ under his bushy eyebrows.\n",
      "‘Be grateful if yeh didn’t mention that ter anyone at Hogwarts,’\n",
      "he said. ‘I’m – er – not supposed ter do magic, strictly speakin’. I\n",
      "was allowed ter do a bit ter follow yeh an’ get yer letters to yeh an’\n",
      "stuff – one o’ the reasons I was so keen ter take on the job –’\n",
      "‘Why aren’t you supposed to do magic?’ asked __Kid Magic__.\n",
      "‘Oh, well – I was at Hogwarts meself but I – er – got expelled,\n",
      "ter tell yeh the truth. In me third year. They snapped me wand in\n",
      "half an’ everything. But Dumbledore let me stay on as gamekeeper.\n",
      "Great man, Dumbledore.’\n",
      "‘Why were you expelled?’\n",
      "‘It’s gettin’ late and we’ve got lots ter do tomorrow,’ said Hagrid\n",
      "loudly. ‘Gotta get up ter town, get all yer books an’ that.’\n",
      "He took off his thick black coat and threw it to __Kid Magic__.\n",
      "‘You can kip under that,’ he said. ‘Don’ mind if it wriggles a bit,\n",
      "I think I still got a couple o’ dormice in one o’ the pockets.’ \n",
      "\n",
      "__Kid Magic__ woke early the next morning. Although he could tell it was\n",
      "daylight, he kept his eyes shut tight.\n",
      "‘It was a dream,’ he told himself firmly. ‘I dreamed a giant called\n",
      "Hagrid came to tell me I was going to a school for wizards. When\n",
      "I open my eyes I’ll be at home in my cupboard.’\n",
      "There was suddenly a loud tapping noise.\n",
      "‘And there’s Aunt Petunia knocking on the door,’ __Kid Magic__\n",
      "thought, his heart sinking. But he still didn’t open his eyes. It had\n",
      "been such a good dream.\n",
      "Tap. Tap. Tap.\n",
      "‘All right,’ __Kid Magic__ mumbled, ‘I’m getting up.’\n",
      "He sat up and Hagrid’s heavy coat fell off him. The hut was full\n",
      "of sunlight, the storm was over, Hagrid himself was asleep on the\n",
      "collapsed sofa and there was an owl rapping its claw on the\n",
      "window, a newspaper held in its beak.\n",
      "__Kid Magic__ scrambled to his feet, so happy he felt as though a large\n",
      "balloon was swelling inside him. He went straight to the window\n",
      "and jerked it open. The owl swooped in and dropped the newspaper on top of Hagrid, who didn’t wake up. The owl then\n",
      "fluttered on to the floor and began to attack Hagrid’s coat.\n",
      "‘Don’t do that.’\n",
      "__Kid Magic__ tried to wave the owl out of the way, but it snapped its\n",
      "beak fiercely at him and carried on savaging the coat. \n"
     ]
    }
   ],
   "source": [
    "d = {}\n",
    "\n",
    "d['Harry'] = '__Kid Magic__'\n",
    "d['Harry Potter'] = '__Kid Magic__'\n",
    "d['Dudley'] = '__Mean Kid__'\n",
    "d['Mr. Dursley'] = '___Father of Mean Kid___'\n",
    "\n",
    "for key in d:\n",
    "    text = text.replace(key,d[key])\n",
    "\n",
    "print(text)"
   ]
  },
  {
   "cell_type": "markdown",
   "metadata": {},
   "source": [
    "# Section 6: Coding Exercises with<br/>Strings and Lists"
   ]
  },
  {
   "cell_type": "markdown",
   "metadata": {},
   "source": [
    "### Coding Exercise 5: Factorise a<br/>number"
   ]
  },
  {
   "cell_type": "markdown",
   "metadata": {},
   "source": [
    "##### Factorise a number\n",
    "<p>In this exercise you have to&nbsp;return factors of a number. The returned factors are in the form of a list</p>\n",
    "<p>so&nbsp;</p>\n",
    "<p><code>factorise(12)</code>&nbsp; will return&nbsp;<code>[1,2,3,4,6,12]</code>&nbsp;<br></p>\n",
    "<p><code>factorise(15)</code>&nbsp; will return <code>[1,3,5,15]</code>&nbsp;</p>\n",
    "<p><code>factorise(7) </code>&nbsp;will return <code>[1,7] </code>&nbsp;</p>"
   ]
  },
  {
   "cell_type": "code",
   "execution_count": null,
   "metadata": {},
   "outputs": [],
   "source": [
    "def factorise(n):\n",
    "    #your answer goes here "
   ]
  },
  {
   "cell_type": "markdown",
   "metadata": {},
   "source": [
    "### Coding Exercise 6: Check if a number<br/>is a prime"
   ]
  },
  {
   "cell_type": "markdown",
   "metadata": {},
   "source": [
    "##### Check if a number is a prime\n",
    "<p>In this exercise we are going to&nbsp;take in one integer as a parameter and check \n",
    "if it is a prime number. The function will return True if the number is prime and return false if the number is not prime&nbsp;</p>\n",
    "<p>for example:</p>\n",
    "<p><code>checkPrime(10)</code>&nbsp;&nbsp; will return <code>False</code>&nbsp;</p>\n",
    "<p><code>checkPrime(11)</code>&nbsp; will return <code>True</code>&nbsp;</p>\n",
    "<p>Remember that 1 is a special case and is not a prime number so&nbsp;</p>\n",
    "<p><code>checkPrime(1) </code>&nbsp;will return <code>False</code>&nbsp;</p>\n",
    "<p><br></p>"
   ]
  },
  {
   "cell_type": "code",
   "execution_count": null,
   "metadata": {},
   "outputs": [],
   "source": [
    "def checkPrime(n):\n",
    "#Your code goes here \n",
    "    return #Your answer goes here "
   ]
  },
  {
   "cell_type": "markdown",
   "metadata": {},
   "source": [
    "### Coding Exercise 7: Return all primes<br/>under a number"
   ]
  },
  {
   "cell_type": "markdown",
   "metadata": {},
   "source": [
    "##### Return all primes under a number\n",
    "<p>Your task&nbsp;is to take in a an integer and return all the prime numbers that exist lower than that integer</p>\n",
    "<p>So for example:&nbsp;</p>\n",
    "<p><code>primesUnder(10) </code>&nbsp;will return&nbsp;<code>[2, 3, 5, 7]</code>&nbsp;<br></p>\n",
    "<p><br></p>"
   ]
  },
  {
   "cell_type": "code",
   "execution_count": null,
   "metadata": {},
   "outputs": [],
   "source": [
    "def returnPrimesUnder(max):\n",
    "    #your code goes here"
   ]
  },
  {
   "cell_type": "markdown",
   "metadata": {},
   "source": [
    "### Coding Exercise 8: Two List Overlap"
   ]
  },
  {
   "cell_type": "markdown",
   "metadata": {},
   "source": [
    "##### Two List Overlap\n",
    "<div class=\"instructions--description--2Qd_w\"><p>In this exercise you will need to write an overlap function which takes in 2 lists and returns all the common items that are in both lists&nbsp;</p>\n",
    "<p>so here are some examples:</p>\n",
    "<p><code>overlap([1,2,3,4,5],[3,4,5,6,7]) </code>&nbsp; &nbsp;will return&nbsp; &nbsp;<code>[3,4,5]</code>&nbsp;</p><p>and </p>\n",
    "<p><code>overlap(['a', 'b','c', 'd'],['a','x','y','z'])</code>&nbsp; will return <code>[ 'a' ] </code>&nbsp;</p>\n",
    "<p><br></p></div>"
   ]
  },
  {
   "cell_type": "code",
   "execution_count": null,
   "metadata": {},
   "outputs": [],
   "source": [
    "def overlap(a,b):\n",
    "    #Your code goes here"
   ]
  },
  {
   "cell_type": "markdown",
   "metadata": {},
   "source": [
    "### Coding Exercise 9: Sorting number<br/>lists (both low to high and high to low)"
   ]
  },
  {
   "cell_type": "markdown",
   "metadata": {},
   "source": [
    "##### Sorting number lists (both low to high and high to low)\n",
    "<p>In this exercise you will write a function that takes in a list of unsorted numbers and returns the sorted list&nbsp;</p>\n",
    "<p>The function should be able to return numbers sorted in both forward and reverse dirctions</p>\n",
    "<p>So&nbsp;</p>\n",
    "<p><code>sort( [ 2 , 2 , 1 , 5 , 3 ] , 'f' ) </code>&nbsp; will return&nbsp; <code>[ 1 , 2 , 2 , 3 , 5 ] </code>&nbsp;</p>\n",
    "<p><code>sort( [ 2 , 2 , 1 , 5 , 3 ] , 'r' )  </code>&nbsp; will return&nbsp;&nbsp;<code>[ 5 , 3 , 2 , 2 , 1 ] </code>&nbsp;<br></p>\n",
    "<p><br></p>\n",
    "<p><br></p>"
   ]
  },
  {
   "cell_type": "code",
   "execution_count": null,
   "metadata": {},
   "outputs": [],
   "source": [
    "def sort (numList,direction):\n",
    "    #your code goes here"
   ]
  },
  {
   "cell_type": "markdown",
   "metadata": {},
   "source": [
    "### Coding Exercise 10: Return X terms<br/>of the Fibonacci Sequence"
   ]
  },
  {
   "cell_type": "markdown",
   "metadata": {},
   "source": [
    "##### Return X terms of the Fibonacci Sequence\n",
    "<p>In this coding exercise your task is to write a function which returns a desired number of Fibonacci terms in the form of a list</p>\n",
    "<p>The&nbsp;<strong>Fibonacci sequence</strong>&nbsp;is a series of&nbsp;<strong>numbers&nbsp;</strong>where a&nbsp;<strong>number</strong>&nbsp;is found by adding up the two<strong>numbers</strong>&nbsp;before it. Starting with 0 and 1, the&nbsp;<strong>sequence</strong>&nbsp;goes 0, 1, 1, 2, 3, 5, 8, 13, 21, 34, and so forth.14 Jun 2013</p>\n",
    "<p>so&nbsp;</p>\n",
    "<p>fibTerms(5) will return&nbsp;&nbsp;[0, 1, 1, 2, 3]</p>\n",
    "<p>and&nbsp;fibTerms(15)&nbsp;will return&nbsp;&nbsp;[0, 1, 1, 2, 3, 5, 8, 13, 21, 34, 55, 89, 144, 233, 377]</p>"
   ]
  },
  {
   "cell_type": "code",
   "execution_count": null,
   "metadata": {},
   "outputs": [],
   "source": [
    "def fibTerms(total):\n",
    "    #put the code here"
   ]
  },
  {
   "cell_type": "markdown",
   "metadata": {},
   "source": [
    "# Section 7: Creating Programs and <br/>Applications"
   ]
  },
  {
   "cell_type": "markdown",
   "metadata": {},
   "source": [
    "### 22. Authentication program Outline"
   ]
  },
  {
   "cell_type": "markdown",
   "metadata": {},
   "source": [
    "###### Authentication program Outline\n",
    "<p>Let’s not have a look at a really commonplace computer program which authenticates a user by checking their username and password either letting them into the system or denying them access. The flowchart for such a program is represented below.</p><p>The flowchart above can be converted into a program in two stages. We are going to program stage 1 which performs a single authentication check for a single user. The program will work as follows\n",
    "\n",
    "  </p>\n",
    "\n",
    "<ul><li>Ask the user for their username \n",
    "\n",
    "  </li><li>Record username in a variable\n",
    "\n",
    "  </li><li>Check if username valid / if invalid EXIT if valid continue\n",
    "\n",
    "  </li><li>Ask the user for their password \n",
    "\n",
    "  </li><li>Record password in a variable\n",
    "\n",
    "  </li><li>Check if password valid / if invalid EXIT if valid, print ACCESS GRANTED\n",
    "\n",
    "  </li></ul>\n",
    "\n",
    "<p>Given that the password is only checked if the username is valid this means that the password checking code must be inside an if statement which checks if the username is correct.&nbsp;\n",
    "\n",
    "</p><p><br><img src=\"https://i.udemycdn.com/redactor/2017-04-23_12-07-12-2c88304834ae76c6a232b88d6453ef8b/authentication.png\" align=\"middle\"></p><p><br></p><figure></figure><p><br></p>"
   ]
  },
  {
   "cell_type": "markdown",
   "metadata": {},
   "source": [
    "### 23. Authentication Program"
   ]
  },
  {
   "cell_type": "code",
   "execution_count": 6,
   "metadata": {},
   "outputs": [
    {
     "name": "stdout",
     "output_type": "stream",
     "text": [
      "Please enter your username: Uzzal71\n",
      "Please enter your password: Abc1234\n",
      "ACCESS GRANTED\n"
     ]
    }
   ],
   "source": [
    "username = 'Sujon71'\n",
    "password = 'Abc123'\n",
    "\n",
    "username2 = 'Uzzal71'\n",
    "password2 = 'Abc1234'\n",
    "\n",
    "inName = input('Please enter your username: ')\n",
    "if(inName == username or inName == username2):\n",
    "    inPassword = input('Please enter your password: ')\n",
    "    if(inName == username and inPassword == password):\n",
    "        print('ACCESS GRANTED')\n",
    "    elif(inName == username2 and inPassword == password2):\n",
    "        print('ACCESS GRANTED')\n",
    "    else: # say invalid password\n",
    "        print('That is not valid password')\n",
    "else: # say username is invalid\n",
    "    print('That is not valid username')"
   ]
  },
  {
   "cell_type": "markdown",
   "metadata": {},
   "source": [
    "### 24. Authentication Using While Loops<br/>and Dictionaries"
   ]
  },
  {
   "cell_type": "code",
   "execution_count": 2,
   "metadata": {},
   "outputs": [
    {
     "name": "stdout",
     "output_type": "stream",
     "text": [
      "Please enter your username: Uzzal71\n",
      "Please enter your password: b\n",
      "waiting .  .  . \n",
      "That is not valid password\n",
      "Please enter your password: aa\n",
      "waiting .  .  . \n",
      "That is not valid password\n",
      "Please enter your password: Abc123\n",
      "waiting .  .  . \n",
      "ACCESS GRANTED\n"
     ]
    }
   ],
   "source": [
    "import time\n",
    "\n",
    "userPasswords = {'Uzzal71':'Abc123','Nasir71':'Abc123','Sujon71':'Abc123'}\n",
    "accessGranted = False\n",
    "\n",
    "while accessGranted == False:\n",
    "    inName = input('Please enter your username: ')\n",
    "    if inName in userPasswords:\n",
    "        goodPassword = False\n",
    "        while goodPassword == False:\n",
    "            inPassword = input('Please enter your password: ')\n",
    "            if inPassword == userPasswords[inName]:\n",
    "                goodPassword = True\n",
    "                accessGranted = True\n",
    "                print('waiting', end='')\n",
    "                time.sleep(1)\n",
    "                for i in range(0, 3):\n",
    "                    time.sleep(1)\n",
    "                    print(' . ', end='')\n",
    "            else: # say invalid password\n",
    "                print('waiting', end='')\n",
    "                time.sleep(1)\n",
    "                for i in range(0, 3):\n",
    "                    time.sleep(1)\n",
    "                    print(' . ', end='')\n",
    "                print('\\nThat is not valid password')\n",
    "    else: # say username is invalid\n",
    "        print('\\nThat is not valid username')\n",
    "\n",
    "if accessGranted:\n",
    "    print('\\nACCESS GRANTED')\n",
    "else:\n",
    "    print('\\nACCESS DENIED')"
   ]
  },
  {
   "cell_type": "markdown",
   "metadata": {},
   "source": [
    "### 25. Guess the Number Game"
   ]
  },
  {
   "cell_type": "code",
   "execution_count": 3,
   "metadata": {},
   "outputs": [],
   "source": [
    "import random"
   ]
  },
  {
   "cell_type": "code",
   "execution_count": 6,
   "metadata": {},
   "outputs": [
    {
     "data": {
      "text/plain": [
       "9"
      ]
     },
     "execution_count": 6,
     "metadata": {},
     "output_type": "execute_result"
    }
   ],
   "source": [
    "random.randint(1, 10)"
   ]
  },
  {
   "cell_type": "code",
   "execution_count": 7,
   "metadata": {},
   "outputs": [
    {
     "data": {
      "text/plain": [
       "4"
      ]
     },
     "execution_count": 7,
     "metadata": {},
     "output_type": "execute_result"
    }
   ],
   "source": [
    "random.randint(1, 10)"
   ]
  },
  {
   "cell_type": "code",
   "execution_count": 21,
   "metadata": {},
   "outputs": [
    {
     "name": "stdout",
     "output_type": "stream",
     "text": [
      "Please guess a number 1-10: 10\n",
      "too big\n",
      "Please guess a number 1-10: 8\n",
      "too big\n",
      "Please guess a number 1-10: 5\n",
      "too big\n",
      "Please guess a number 1-10: 2\n",
      "too small\n",
      "Please guess a number 1-10: 3\n",
      "too small\n",
      "Please guess a number 1-10: 1\n",
      "too small\n",
      "Please guess a number 1-10: 4\n",
      "Well done you guessed the number\n",
      "It took your 7 tries\n"
     ]
    }
   ],
   "source": [
    "import random\n",
    "\n",
    "xNum = random.randint(1, 10)\n",
    "found = False\n",
    "counter = 0\n",
    "\n",
    "while found == False:\n",
    "    yourNumber = int(input('Please guess a number 1-10: '))\n",
    "    counter = counter + 1\n",
    "    # too big\n",
    "    if yourNumber > xNum:\n",
    "        print('too big')\n",
    "    # to small\n",
    "    elif yourNumber < xNum:\n",
    "        print('too small')\n",
    "    # correct\n",
    "    else:\n",
    "        print('Well done you guessed the number')\n",
    "        print('It took your ' + str(counter) + ' tries')\n",
    "        found = True"
   ]
  },
  {
   "cell_type": "markdown",
   "metadata": {},
   "source": [
    "### 26. Reaction Time Program"
   ]
  },
  {
   "cell_type": "code",
   "execution_count": 41,
   "metadata": {},
   "outputs": [
    {
     "name": "stdout",
     "output_type": "stream",
     "text": [
      "When I Say __Go__ You Hit Enter!. Got it?\n",
      "Ready\n",
      "Steady\n",
      "####__Go__####\n",
      "\n",
      "your time was 0.012680620999999892 seconds\n"
     ]
    }
   ],
   "source": [
    "import time, random\n",
    "\n",
    "print('When I Say __Go__ You Hit Enter!. Got it?')\n",
    "\n",
    "time.sleep(1)\n",
    "print('Ready')\n",
    "time.sleep(1)\n",
    "print('Steady')\n",
    "time.sleep(random.randint(2, 5))\n",
    "print('####__Go__####')\n",
    "tic = time.process_time() # python 3.3 version time.clock()\n",
    "a = input()               # python 3.8 version time.process_time()\n",
    "toc = time.process_time()\n",
    "timeSpend = toc - tic\n",
    "print('your time was ' + str(timeSpend) + ' seconds')"
   ]
  },
  {
   "cell_type": "markdown",
   "metadata": {},
   "source": [
    "### 27. Memory Training Program"
   ]
  },
  {
   "cell_type": "code",
   "execution_count": 4,
   "metadata": {},
   "outputs": [
    {
     "name": "stdout",
     "output_type": "stream",
     "text": [
      "How many digits to you want to guess: 6\n",
      "[4, 1, 7, 5, 2, 5]\n",
      "\n",
      "\n",
      "\n",
      "\n",
      "\n",
      "\n",
      "\n",
      "\n",
      "\n",
      "\n",
      "enter number at index 0\n",
      "4\n",
      "CORRECT\n",
      "enter number at index 1\n",
      "0\n",
      "WRONG\n",
      "[4, 1, 7, 5, 2, 5]\n"
     ]
    }
   ],
   "source": [
    "import random, time\n",
    "\n",
    "# get a sequence length from the user\n",
    "digits = int(input('How many digits to you want to guess: '))\n",
    "\n",
    "# create a random sequence\n",
    "sequence = []\n",
    "for i in range(0, digits):\n",
    "    sequence.append(random.randint(0, 9))\n",
    "print(sequence)\n",
    "\n",
    "# show it for 5 seconds\n",
    "time.sleep(5)\n",
    "\n",
    "# hide the sequence\n",
    "for i in range(0, 10):\n",
    "    print('')\n",
    "\n",
    "# check if the user can recall the sequence\n",
    "for i in range(0, digits):\n",
    "    print('enter number at index ' + str(i))\n",
    "    num = int(input())\n",
    "    if num == sequence[i]:\n",
    "        print('CORRECT')\n",
    "    else:\n",
    "        print('WRONG')\n",
    "        break\n",
    "        \n",
    "print(sequence)"
   ]
  },
  {
   "cell_type": "markdown",
   "metadata": {},
   "source": [
    "### 28. Palindrome Discovery"
   ]
  },
  {
   "cell_type": "code",
   "execution_count": 11,
   "metadata": {},
   "outputs": [
    {
     "name": "stdout",
     "output_type": "stream",
     "text": [
      "[]\n"
     ]
    }
   ],
   "source": [
    "# 1 convert file to string\n",
    "text = open('allWords.txt')\n",
    "text = text.read()\n",
    "\n",
    "def main():\n",
    "    global text\n",
    "    text = stripPunctualtion(text)\n",
    "    words = lowercaseList(text)\n",
    "    print(checkPalindrome(words))\n",
    "\n",
    "# 2 strip punctuation\n",
    "def stripPunctualtion(string):\n",
    "    punctuation = '!\"#$%&\\'()*+,-./:;<=>?@[\\\\]^_`{|}~â€™â€œâ€'\n",
    "    for c in punctuation:\n",
    "        string = string.replace(c, '')\n",
    "    return string\n",
    "\n",
    "# 3 lowercase everything then convert to list\n",
    "def lowercaseList(string):\n",
    "    string = string.lower()\n",
    "    string = string.split()\n",
    "    return string\n",
    "\n",
    "# 4 reverse word\n",
    "def reverseWord(string):\n",
    "    answer = ''\n",
    "    for i in range(len(string)-1,-1,-1):\n",
    "        letter = string[i]\n",
    "        answer = answer +letter\n",
    "    return answer\n",
    "\n",
    "# 5 check it word == reverse word if so add to Palindromess\n",
    "def checkPalindrome(wordList):\n",
    "    palindrome = []\n",
    "    for word in wordList:\n",
    "        if len(word) > 1:\n",
    "            if word == reverseWord(word):\n",
    "                palindrome.append(word)\n",
    "    return palindrome\n",
    "\n",
    "# Call main function\n",
    "main()"
   ]
  },
  {
   "cell_type": "markdown",
   "metadata": {},
   "source": [
    "# Section 8: Encryption from<br/>Algorithm to Application"
   ]
  },
  {
   "cell_type": "markdown",
   "metadata": {},
   "source": [
    "### 29. The history and functionality of<br/>the Caesar Cypher Algorithm"
   ]
  },
  {
   "cell_type": "markdown",
   "metadata": {},
   "source": [
    "<h4>The history and functionality of the Caesar Cypher Algorithm</h4>\n",
    "<p>The Caesar Cypher Algorithm is one of the simplest and most widely known encryption techniques. It is a type of substitution cipher in which each letter in the plaintext is replaced by a letter some fixed number of positions down the alphabet. For example, with a left shift of 3, D would be replaced by A, E would become B, and so on.</p>\n",
    "\n",
    "<p>The method is named after Julius Caesar, who used it in his private and military correspondence. So sometime more than two thousand years ago roman armies were communicating with one another over large distance using this encryption technique. \n",
    "  </p>\n",
    "<p>At times the messages were intercepted by their enemies but even to someone who spoke Latin, the messages made no sense. Here is a typical example:\n",
    "  </p>\n",
    "<p>&nbsp;“wkh dgydqfh zloo ehjlq dw wkuhh sp”\n",
    "  </p>\n",
    "<p>Roman generals however could easily decrypt and read the messages. And so they achieved secure communication well before the age of computers, passwords and logins.&nbsp;\n",
    "</p>\n",
    "<figure><img src=\"https://i.udemycdn.com/redactor/2017-04-23_12-48-34-80de66b0f32967bde8700603da4baabf/caesarCypher.jpg\" align=\"middle\"></figure>\n",
    "<p>Above is a fantastic physical solution to our problem the two wheels can spin and this give you a dictionary for translating each letter from plain text to cypher text and vice versa\n",
    "</p>\n",
    "<p><br></p>\n",
    "<p><br></p>\n",
    "<figure><img src=\"https://i.udemycdn.com/redactor/2017-04-23_12-49-05-e3a6c178a5bf504c8fd635dccf7a467c/cypherDiagram.JPG\" align=\"middle\"></figure>\n",
    "<p><br></p>\n",
    "<p><br></p>"
   ]
  },
  {
   "cell_type": "markdown",
   "metadata": {},
   "source": [
    "### 30. Caesar Cypher Dictionary<br/>Flowchart"
   ]
  },
  {
   "cell_type": "markdown",
   "metadata": {},
   "source": [
    "<h4>Caesar Cypher Dictionary Flowchart</h4>\n",
    "<div class=\"p-space-md\"><div class=\"article-asset--content--1dAQ9\"><p>So in the last tutorial we learned how Caesar Cypher works. In this tutorial we are going to create a Python program that generates a dictionary which shows how each letter in a normal alphabet becomes a shifted letter in a dictionary. Below is the flowchart of the whole Caesar cypher algorithm, we will be creating a program that completes the first stage.&nbsp;</p><figure><img src=\"https://i.udemycdn.com/redactor/2017-04-23_12-53-51-fb4ade7233df4dd04b8f21cea0c7c6f0/cypherDictionary.JPG\" align=\"middle\"></figure></div></div>"
   ]
  },
  {
   "cell_type": "markdown",
   "metadata": {},
   "source": [
    "### 31. Caesar Cypher Algorithm"
   ]
  },
  {
   "cell_type": "code",
   "execution_count": 1,
   "metadata": {},
   "outputs": [],
   "source": [
    "# go to 29 lecture "
   ]
  },
  {
   "cell_type": "markdown",
   "metadata": {},
   "source": [
    "### 32. Caesar Cypher Dictionary"
   ]
  },
  {
   "cell_type": "code",
   "execution_count": 2,
   "metadata": {},
   "outputs": [],
   "source": [
    "# go to 30 lecture and code there"
   ]
  },
  {
   "cell_type": "code",
   "execution_count": 3,
   "metadata": {},
   "outputs": [
    {
     "name": "stdout",
     "output_type": "stream",
     "text": [
      "['a', 'b', 'c', 'd', 'e', 'f', 'g', 'h', 'i', 'j', 'k', 'l', 'm', 'n', 'o', 'p', 'q', 'r', 's', 't', 'u', 'v', 'w', 'x', 'y', 'z']\n"
     ]
    }
   ],
   "source": [
    "import string\n",
    "print(list(string.ascii_lowercase))"
   ]
  },
  {
   "cell_type": "code",
   "execution_count": 6,
   "metadata": {},
   "outputs": [
    {
     "name": "stdout",
     "output_type": "stream",
     "text": [
      "Write a message you want to encrypt: you\n",
      "What shift do you want to user? 5\n",
      "a=f\n",
      "b=g\n",
      "c=h\n",
      "d=i\n",
      "e=j\n",
      "f=k\n",
      "g=l\n",
      "h=m\n",
      "i=n\n",
      "j=o\n",
      "k=p\n",
      "l=q\n",
      "m=r\n",
      "n=s\n",
      "o=t\n",
      "p=u\n",
      "q=v\n",
      "r=w\n",
      "s=x\n",
      "t=y\n",
      "u=z\n",
      "v=a\n",
      "w=b\n",
      "x=c\n",
      "y=d\n",
      "z=e\n",
      "{'a': 'f', 'b': 'g', 'c': 'h', 'd': 'i', 'e': 'j', 'f': 'k', 'g': 'l', 'h': 'm', 'i': 'n', 'j': 'o', 'k': 'p', 'l': 'q', 'm': 'r', 'n': 's', 'o': 't', 'p': 'u', 'q': 'v', 'r': 'w', 's': 'x', 't': 'y', 'u': 'z', 'v': 'a', 'w': 'b', 'x': 'c', 'y': 'd', 'z': 'e'}\n"
     ]
    }
   ],
   "source": [
    "# write down an alphabet\n",
    "alphabet = ['a', 'b', 'c', 'd', 'e', 'f', 'g', 'h', 'i', 'j', 'k', 'l', 'm',\n",
    "            'n', 'o', 'p', 'q', 'r', 's', 't', 'u', 'v', 'w', 'x', 'y', 'z']\n",
    "\n",
    "message = input('Write a message you want to encrypt: ')\n",
    "shift = int(input('What shift do you want to user? '))\n",
    "dictionary = {}\n",
    "\n",
    "for i in range(0, 26):\n",
    "    letter = alphabet[i]\n",
    "    shift_letter = alphabet[(i + shift) % 26]\n",
    "    dictionary[letter] = shift_letter\n",
    "    print(letter + '=' + shift_letter)\n",
    "print(dictionary)"
   ]
  },
  {
   "cell_type": "markdown",
   "metadata": {},
   "source": [
    "### 33. Caesar Cypher Encryption<br/>Program"
   ]
  },
  {
   "cell_type": "code",
   "execution_count": 14,
   "metadata": {},
   "outputs": [
    {
     "name": "stdout",
     "output_type": "stream",
     "text": [
      "Write a message you want to encrypt: i love you\n",
      "What shift do you want to user? 3\n",
      "l oryh brx\n"
     ]
    }
   ],
   "source": [
    "# write down an alphabet\n",
    "alphabet = ['a', 'b', 'c', 'd', 'e', 'f', 'g', 'h', 'i', 'j', 'k', 'l', 'm',\n",
    "            'n', 'o', 'p', 'q', 'r', 's', 't', 'u', 'v', 'w', 'x', 'y', 'z']\n",
    "\n",
    "message = input('Write a message you want to encrypt: ')\n",
    "message = message.lower()\n",
    "shift = int(input('What shift do you want to user? '))\n",
    "dictionary = {}\n",
    "cypherText = ''\n",
    "\n",
    "for i in range(0, 26):\n",
    "    letter = alphabet[i]\n",
    "    shift_letter = alphabet[(i + shift) % 26]\n",
    "    dictionary[letter] = shift_letter\n",
    "\n",
    "for letter in message:\n",
    "    if letter in alphabet:\n",
    "        letter = dictionary[letter]\n",
    "        cypherText = cypherText + letter\n",
    "    else:\n",
    "        cypherText = cypherText + letter\n",
    "print(cypherText)"
   ]
  },
  {
   "cell_type": "markdown",
   "metadata": {},
   "source": [
    "### 34. Caesar Cypher Decryption<br/>Program"
   ]
  },
  {
   "cell_type": "code",
   "execution_count": 16,
   "metadata": {},
   "outputs": [
    {
     "name": "stdout",
     "output_type": "stream",
     "text": [
      "Write a message you want to encrypt: I love you baby. do you love me\n",
      "j mpwf zpv cbcz. ep zpv mpwf nf\n",
      "k nqxg aqw dcda. fq aqw nqxg og\n",
      "l oryh brx edeb. gr brx oryh ph\n",
      "m pszi csy fefc. hs csy pszi qi\n",
      "n qtaj dtz gfgd. it dtz qtaj rj\n",
      "o rubk eua hghe. ju eua rubk sk\n",
      "p svcl fvb ihif. kv fvb svcl tl\n",
      "q twdm gwc jijg. lw gwc twdm um\n",
      "r uxen hxd kjkh. mx hxd uxen vn\n",
      "s vyfo iye lkli. ny iye vyfo wo\n",
      "t wzgp jzf mlmj. oz jzf wzgp xp\n",
      "u xahq kag nmnk. pa kag xahq yq\n",
      "v ybir lbh onol. qb lbh ybir zr\n",
      "w zcjs mci popm. rc mci zcjs as\n",
      "x adkt ndj qpqn. sd ndj adkt bt\n",
      "y belu oek rqro. te oek belu cu\n",
      "z cfmv pfl srsp. uf pfl cfmv dv\n",
      "a dgnw qgm tstq. vg qgm dgnw ew\n",
      "b ehox rhn utur. wh rhn ehox fx\n",
      "c fipy sio vuvs. xi sio fipy gy\n",
      "d gjqz tjp wvwt. yj tjp gjqz hz\n",
      "e hkra ukq xwxu. zk ukq hkra ia\n",
      "f ilsb vlr yxyv. al vlr ilsb jb\n",
      "g jmtc wms zyzw. bm wms jmtc kc\n",
      "h knud xnt azax. cn xnt knud ld\n"
     ]
    }
   ],
   "source": [
    "# write down an alphabet\n",
    "alphabet = ['a', 'b', 'c', 'd', 'e', 'f', 'g', 'h', 'i', 'j', 'k', 'l', 'm',\n",
    "            'n', 'o', 'p', 'q', 'r', 's', 't', 'u', 'v', 'w', 'x', 'y', 'z']\n",
    "\n",
    "message = input('Write a message you want to encrypt: ')\n",
    "message = message.lower()\n",
    "#shift = int(input('What shift do you want to user? '))\n",
    "\n",
    "for shift in range(1, 26):\n",
    "\n",
    "    dictionary = {}\n",
    "    cypherText = ''\n",
    "\n",
    "    for i in range(0, 26):\n",
    "        letter = alphabet[i]\n",
    "        shift_letter = alphabet[(i + shift) % 26]\n",
    "        dictionary[letter] = shift_letter\n",
    "\n",
    "    for letter in message:\n",
    "        if letter in alphabet:\n",
    "            letter = dictionary[letter]\n",
    "            cypherText = cypherText + letter\n",
    "        else:\n",
    "            cypherText = cypherText + letter\n",
    "    print(cypherText)"
   ]
  },
  {
   "cell_type": "markdown",
   "metadata": {},
   "source": [
    "### 35. Smart Decryption"
   ]
  },
  {
   "cell_type": "code",
   "execution_count": 18,
   "metadata": {},
   "outputs": [
    {
     "name": "stdout",
     "output_type": "stream",
     "text": [
      "Write a message you want to encrypt: i love you baby, do you love me baby\n",
      "k nqxg aqw dcda, fq aqw nqxg og dcda\n",
      "m pszi csy fefc, hs csy pszi qi fefc\n",
      "o rubk eua hghe, ju eua rubk sk hghe\n",
      "r uxen hxd kjkh, mx hxd uxen vn kjkh\n",
      "s vyfo iye lkli, ny iye vyfo wo lkli\n",
      "u xahq kag nmnk, pa kag xahq yq nmnk\n",
      "v ybir lbh onol, qb lbh ybir zr onol\n",
      "w zcjs mci popm, rc mci zcjs as popm\n",
      "x adkt ndj qpqn, sd ndj adkt bt qpqn\n",
      "y belu oek rqro, te oek belu cu rqro\n",
      "z cfmv pfl srsp, uf pfl cfmv dv srsp\n",
      "b ehox rhn utur, wh rhn ehox fx utur\n",
      "c fipy sio vuvs, xi sio fipy gy vuvs\n",
      "f ilsb vlr yxyv, al vlr ilsb jb yxyv\n",
      "g jmtc wms zyzw, bm wms jmtc kc zyzw\n"
     ]
    }
   ],
   "source": [
    "words = open('words.txt')\n",
    "words = words.read()\n",
    "\n",
    "# write down an alphabet\n",
    "alphabet = ['a', 'b', 'c', 'd', 'e', 'f', 'g', 'h', 'i', 'j', 'k', 'l', 'm',\n",
    "            'n', 'o', 'p', 'q', 'r', 's', 't', 'u', 'v', 'w', 'x', 'y', 'z']\n",
    "\n",
    "message = input('Write a message you want to encrypt: ')\n",
    "message = message.lower()\n",
    "\n",
    "for shift in range(1, 26):\n",
    "\n",
    "    dictionary = {}\n",
    "    cypherText = ''\n",
    "\n",
    "    for i in range(0, 26):\n",
    "        letter = alphabet[i]\n",
    "        shift_letter = alphabet[(i + shift) % 26]\n",
    "        dictionary[letter] = shift_letter\n",
    "\n",
    "    for letter in message:\n",
    "        if letter in alphabet:\n",
    "            letter = dictionary[letter]\n",
    "            cypherText = cypherText + letter\n",
    "        else:\n",
    "            cypherText = cypherText + letter\n",
    "    cypherList = cypherText.split()\n",
    "    score = 0\n",
    "    for word in cypherList:\n",
    "        if word in words:\n",
    "            score = score + 1\n",
    "    if score / len(cypherList) > 0.5:\n",
    "        print(cypherText)"
   ]
  },
  {
   "cell_type": "markdown",
   "metadata": {},
   "source": [
    "### 36. Polyalphabetic Cypher"
   ]
  },
  {
   "cell_type": "code",
   "execution_count": 27,
   "metadata": {},
   "outputs": [
    {
     "name": "stdout",
     "output_type": "stream",
     "text": [
      "Write a message you want to encrypt: This is my cypher message\n",
      "What password do you want to user: snake\n",
      "luic af wc pyzlwe wikfaqi\n"
     ]
    }
   ],
   "source": [
    "# write down an alphabet\n",
    "alphabet = ['a', 'b', 'c', 'd', 'e', 'f', 'g', 'h', 'i', 'j', 'k', 'l', 'm',\n",
    "            'n', 'o', 'p', 'q', 'r', 's', 't', 'u', 'v', 'w', 'x', 'y', 'z']\n",
    "\n",
    "message = input('Write a message you want to encrypt: ')\n",
    "message = message.lower()\n",
    "\n",
    "# Password\n",
    "password = input('What password do you want to user: ')\n",
    "password = password.lower()\n",
    "password = password*len(message)\n",
    "\n",
    "cypherText = ''\n",
    "count = 0\n",
    "\n",
    "for letter in message:\n",
    "    if letter in alphabet:\n",
    "        # define shift\n",
    "        shift = alphabet.index(password[count])\n",
    "\n",
    "        # define the cypherLetter\n",
    "        letterIndex = alphabet.index(letter)\n",
    "        cypherLetter = alphabet[(letterIndex + shift) % 26]\n",
    "        cypherText = cypherText + cypherLetter\n",
    "    else:\n",
    "        cypherText = cypherText + letter\n",
    "    count = count + 1\n",
    "    \n",
    "print(cypherText)"
   ]
  },
  {
   "cell_type": "markdown",
   "metadata": {},
   "source": [
    "### 37. Congratulations"
   ]
  },
  {
   "cell_type": "code",
   "execution_count": null,
   "metadata": {},
   "outputs": [],
   "source": []
  }
 ],
 "metadata": {
  "kernelspec": {
   "display_name": "Python 3",
   "language": "python",
   "name": "python3"
  },
  "language_info": {
   "codemirror_mode": {
    "name": "ipython",
    "version": 3
   },
   "file_extension": ".py",
   "mimetype": "text/x-python",
   "name": "python",
   "nbconvert_exporter": "python",
   "pygments_lexer": "ipython3",
   "version": "3.7.1"
  }
 },
 "nbformat": 4,
 "nbformat_minor": 2
}
